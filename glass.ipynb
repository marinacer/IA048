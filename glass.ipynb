{
  "nbformat": 4,
  "nbformat_minor": 0,
  "metadata": {
    "colab": {
      "name": "glass.ipynb",
      "provenance": [],
      "authorship_tag": "ABX9TyP81+Syz/GOkiJyNuaf2ECR",
      "include_colab_link": true
    },
    "kernelspec": {
      "name": "python3",
      "display_name": "Python 3"
    }
  },
  "cells": [
    {
      "cell_type": "markdown",
      "metadata": {
        "id": "view-in-github",
        "colab_type": "text"
      },
      "source": [
        "<a href=\"https://colab.research.google.com/github/marinacer/IA048/blob/main/glass.ipynb\" target=\"_parent\"><img src=\"https://colab.research.google.com/assets/colab-badge.svg\" alt=\"Open In Colab\"/></a>"
      ]
    },
    {
      "cell_type": "markdown",
      "metadata": {
        "id": "GtNcQFcqLUSG"
      },
      "source": [
        "https://www.kaggle.com/uciml/glass\r\n",
        "\r\n",
        "The dataset is a Glass Identification that contains 214 instances, 9 attributes\r\n",
        "*   RI: refractive index\r\n",
        "\r\n",
        "* Na: Sodium\r\n",
        "\r\n",
        "* Mg: Magnesium\r\n",
        "\r\n",
        "* Al: Aluminum\r\n",
        "\r\n",
        "* Si: Silicon\r\n",
        "\r\n",
        "* K: Potassium\r\n",
        "\r\n",
        "* Ca: Calcium\r\n",
        "\r\n",
        "* Ba: Barium\r\n",
        "\r\n",
        "* Fe: Iron\r\n",
        "\r\n",
        "And 6 classes\r\n",
        "\r\n",
        "* 1: building windows float processed\r\n",
        "\r\n",
        "* 2: building windows non float processed\r\n",
        "\r\n",
        "* 3: vehicle windows float processed\r\n",
        "\r\n",
        "* 4: containers\r\n",
        "\r\n",
        "* 5: tableware\r\n",
        "\r\n",
        "* 6: headlamps"
      ]
    },
    {
      "cell_type": "code",
      "metadata": {
        "id": "GQ_MjwF2deKt"
      },
      "source": [
        "import csv\r\n",
        "import numpy as np\r\n",
        "import pandas as pd\r\n",
        "import seaborn as sns\r\n",
        "import sklearn.metrics as sk\r\n",
        "import matplotlib.pyplot as plt\r\n",
        "from sklearn import preprocessing\r\n",
        "from sklearn.metrics import f1_score\r\n",
        "from sklearn.metrics import accuracy_score"
      ],
      "execution_count": 17,
      "outputs": []
    },
    {
      "cell_type": "code",
      "metadata": {
        "colab": {
          "base_uri": "https://localhost:8080/",
          "height": 206
        },
        "id": "DATxbZEYdhY2",
        "outputId": "532a9642-c874-4bee-c71d-03485c7a0421"
      },
      "source": [
        "# open the csv file to dataframe\r\n",
        "df = pd.read_csv('glass.csv')\r\n",
        "df.head()\r\n",
        "\r\n",
        "# atributes to X and labels to y\r\n",
        "X = df.drop('Type',axis = 1)\r\n",
        "y = df.Type\r\n",
        "df.head()"
      ],
      "execution_count": 18,
      "outputs": [
        {
          "output_type": "execute_result",
          "data": {
            "text/html": [
              "<div>\n",
              "<style scoped>\n",
              "    .dataframe tbody tr th:only-of-type {\n",
              "        vertical-align: middle;\n",
              "    }\n",
              "\n",
              "    .dataframe tbody tr th {\n",
              "        vertical-align: top;\n",
              "    }\n",
              "\n",
              "    .dataframe thead th {\n",
              "        text-align: right;\n",
              "    }\n",
              "</style>\n",
              "<table border=\"1\" class=\"dataframe\">\n",
              "  <thead>\n",
              "    <tr style=\"text-align: right;\">\n",
              "      <th></th>\n",
              "      <th>RI</th>\n",
              "      <th>Na</th>\n",
              "      <th>Mg</th>\n",
              "      <th>Al</th>\n",
              "      <th>Si</th>\n",
              "      <th>K</th>\n",
              "      <th>Ca</th>\n",
              "      <th>Ba</th>\n",
              "      <th>Fe</th>\n",
              "      <th>Type</th>\n",
              "    </tr>\n",
              "  </thead>\n",
              "  <tbody>\n",
              "    <tr>\n",
              "      <th>0</th>\n",
              "      <td>1.52101</td>\n",
              "      <td>13.64</td>\n",
              "      <td>4.49</td>\n",
              "      <td>1.10</td>\n",
              "      <td>71.78</td>\n",
              "      <td>0.06</td>\n",
              "      <td>8.75</td>\n",
              "      <td>0.0</td>\n",
              "      <td>0.0</td>\n",
              "      <td>1</td>\n",
              "    </tr>\n",
              "    <tr>\n",
              "      <th>1</th>\n",
              "      <td>1.51761</td>\n",
              "      <td>13.89</td>\n",
              "      <td>3.60</td>\n",
              "      <td>1.36</td>\n",
              "      <td>72.73</td>\n",
              "      <td>0.48</td>\n",
              "      <td>7.83</td>\n",
              "      <td>0.0</td>\n",
              "      <td>0.0</td>\n",
              "      <td>1</td>\n",
              "    </tr>\n",
              "    <tr>\n",
              "      <th>2</th>\n",
              "      <td>1.51618</td>\n",
              "      <td>13.53</td>\n",
              "      <td>3.55</td>\n",
              "      <td>1.54</td>\n",
              "      <td>72.99</td>\n",
              "      <td>0.39</td>\n",
              "      <td>7.78</td>\n",
              "      <td>0.0</td>\n",
              "      <td>0.0</td>\n",
              "      <td>1</td>\n",
              "    </tr>\n",
              "    <tr>\n",
              "      <th>3</th>\n",
              "      <td>1.51766</td>\n",
              "      <td>13.21</td>\n",
              "      <td>3.69</td>\n",
              "      <td>1.29</td>\n",
              "      <td>72.61</td>\n",
              "      <td>0.57</td>\n",
              "      <td>8.22</td>\n",
              "      <td>0.0</td>\n",
              "      <td>0.0</td>\n",
              "      <td>1</td>\n",
              "    </tr>\n",
              "    <tr>\n",
              "      <th>4</th>\n",
              "      <td>1.51742</td>\n",
              "      <td>13.27</td>\n",
              "      <td>3.62</td>\n",
              "      <td>1.24</td>\n",
              "      <td>73.08</td>\n",
              "      <td>0.55</td>\n",
              "      <td>8.07</td>\n",
              "      <td>0.0</td>\n",
              "      <td>0.0</td>\n",
              "      <td>1</td>\n",
              "    </tr>\n",
              "  </tbody>\n",
              "</table>\n",
              "</div>"
            ],
            "text/plain": [
              "        RI     Na    Mg    Al     Si     K    Ca   Ba   Fe  Type\n",
              "0  1.52101  13.64  4.49  1.10  71.78  0.06  8.75  0.0  0.0     1\n",
              "1  1.51761  13.89  3.60  1.36  72.73  0.48  7.83  0.0  0.0     1\n",
              "2  1.51618  13.53  3.55  1.54  72.99  0.39  7.78  0.0  0.0     1\n",
              "3  1.51766  13.21  3.69  1.29  72.61  0.57  8.22  0.0  0.0     1\n",
              "4  1.51742  13.27  3.62  1.24  73.08  0.55  8.07  0.0  0.0     1"
            ]
          },
          "metadata": {
            "tags": []
          },
          "execution_count": 18
        }
      ]
    },
    {
      "cell_type": "code",
      "metadata": {
        "colab": {
          "base_uri": "https://localhost:8080/",
          "height": 287
        },
        "id": "JzGoaMC9EKJb",
        "outputId": "e705b5fe-a76a-4b21-84cb-babbe92518f6"
      },
      "source": [
        "unique, counts = np.unique(y, return_counts=True)\r\n",
        "print(\"Quantidade de amostras por classe:\",counts)\r\n",
        "df.groupby('Type').mean()"
      ],
      "execution_count": 43,
      "outputs": [
        {
          "output_type": "stream",
          "text": [
            "Quantidade de amostras por classe: [70 76 17 13  9 29]\n"
          ],
          "name": "stdout"
        },
        {
          "output_type": "execute_result",
          "data": {
            "text/html": [
              "<div>\n",
              "<style scoped>\n",
              "    .dataframe tbody tr th:only-of-type {\n",
              "        vertical-align: middle;\n",
              "    }\n",
              "\n",
              "    .dataframe tbody tr th {\n",
              "        vertical-align: top;\n",
              "    }\n",
              "\n",
              "    .dataframe thead th {\n",
              "        text-align: right;\n",
              "    }\n",
              "</style>\n",
              "<table border=\"1\" class=\"dataframe\">\n",
              "  <thead>\n",
              "    <tr style=\"text-align: right;\">\n",
              "      <th></th>\n",
              "      <th>RI</th>\n",
              "      <th>Na</th>\n",
              "      <th>Mg</th>\n",
              "      <th>Al</th>\n",
              "      <th>Si</th>\n",
              "      <th>K</th>\n",
              "      <th>Ca</th>\n",
              "      <th>Ba</th>\n",
              "      <th>Fe</th>\n",
              "    </tr>\n",
              "    <tr>\n",
              "      <th>Type</th>\n",
              "      <th></th>\n",
              "      <th></th>\n",
              "      <th></th>\n",
              "      <th></th>\n",
              "      <th></th>\n",
              "      <th></th>\n",
              "      <th></th>\n",
              "      <th></th>\n",
              "      <th></th>\n",
              "    </tr>\n",
              "  </thead>\n",
              "  <tbody>\n",
              "    <tr>\n",
              "      <th>1</th>\n",
              "      <td>1.518718</td>\n",
              "      <td>13.242286</td>\n",
              "      <td>3.552429</td>\n",
              "      <td>1.163857</td>\n",
              "      <td>72.619143</td>\n",
              "      <td>0.447429</td>\n",
              "      <td>8.797286</td>\n",
              "      <td>0.012714</td>\n",
              "      <td>0.057000</td>\n",
              "    </tr>\n",
              "    <tr>\n",
              "      <th>2</th>\n",
              "      <td>1.518619</td>\n",
              "      <td>13.111711</td>\n",
              "      <td>3.002105</td>\n",
              "      <td>1.408158</td>\n",
              "      <td>72.598026</td>\n",
              "      <td>0.521053</td>\n",
              "      <td>9.073684</td>\n",
              "      <td>0.050263</td>\n",
              "      <td>0.079737</td>\n",
              "    </tr>\n",
              "    <tr>\n",
              "      <th>3</th>\n",
              "      <td>1.517964</td>\n",
              "      <td>13.437059</td>\n",
              "      <td>3.543529</td>\n",
              "      <td>1.201176</td>\n",
              "      <td>72.404706</td>\n",
              "      <td>0.406471</td>\n",
              "      <td>8.782941</td>\n",
              "      <td>0.008824</td>\n",
              "      <td>0.057059</td>\n",
              "    </tr>\n",
              "    <tr>\n",
              "      <th>5</th>\n",
              "      <td>1.518928</td>\n",
              "      <td>12.827692</td>\n",
              "      <td>0.773846</td>\n",
              "      <td>2.033846</td>\n",
              "      <td>72.366154</td>\n",
              "      <td>1.470000</td>\n",
              "      <td>10.123846</td>\n",
              "      <td>0.187692</td>\n",
              "      <td>0.060769</td>\n",
              "    </tr>\n",
              "    <tr>\n",
              "      <th>6</th>\n",
              "      <td>1.517456</td>\n",
              "      <td>14.646667</td>\n",
              "      <td>1.305556</td>\n",
              "      <td>1.366667</td>\n",
              "      <td>73.206667</td>\n",
              "      <td>0.000000</td>\n",
              "      <td>9.356667</td>\n",
              "      <td>0.000000</td>\n",
              "      <td>0.000000</td>\n",
              "    </tr>\n",
              "    <tr>\n",
              "      <th>7</th>\n",
              "      <td>1.517116</td>\n",
              "      <td>14.442069</td>\n",
              "      <td>0.538276</td>\n",
              "      <td>2.122759</td>\n",
              "      <td>72.965862</td>\n",
              "      <td>0.325172</td>\n",
              "      <td>8.491379</td>\n",
              "      <td>1.040000</td>\n",
              "      <td>0.013448</td>\n",
              "    </tr>\n",
              "  </tbody>\n",
              "</table>\n",
              "</div>"
            ],
            "text/plain": [
              "            RI         Na        Mg  ...         Ca        Ba        Fe\n",
              "Type                                 ...                               \n",
              "1     1.518718  13.242286  3.552429  ...   8.797286  0.012714  0.057000\n",
              "2     1.518619  13.111711  3.002105  ...   9.073684  0.050263  0.079737\n",
              "3     1.517964  13.437059  3.543529  ...   8.782941  0.008824  0.057059\n",
              "5     1.518928  12.827692  0.773846  ...  10.123846  0.187692  0.060769\n",
              "6     1.517456  14.646667  1.305556  ...   9.356667  0.000000  0.000000\n",
              "7     1.517116  14.442069  0.538276  ...   8.491379  1.040000  0.013448\n",
              "\n",
              "[6 rows x 9 columns]"
            ]
          },
          "metadata": {
            "tags": []
          },
          "execution_count": 43
        }
      ]
    },
    {
      "cell_type": "code",
      "metadata": {
        "id": "loRusGXcZeqa"
      },
      "source": [
        "# label encoding. necessário para corrigir um erro do dataset na nomenclatura das classes\r\n",
        "label = preprocessing.LabelEncoder()\r\n",
        "label.fit(y)\r\n",
        "y_label = label.transform(y)"
      ],
      "execution_count": 19,
      "outputs": []
    },
    {
      "cell_type": "code",
      "metadata": {
        "id": "nak2u9tnhlfk"
      },
      "source": [
        "from sklearn.model_selection import train_test_split\r\n",
        "\r\n",
        "Xtrain, Xtest, ytrain, ytest = train_test_split(X, y_label, test_size = 0.30, random_state = 1)"
      ],
      "execution_count": 26,
      "outputs": []
    },
    {
      "cell_type": "markdown",
      "metadata": {
        "id": "t5XFEC8HCj_K"
      },
      "source": [
        "**Random Forest**"
      ]
    },
    {
      "cell_type": "code",
      "metadata": {
        "colab": {
          "base_uri": "https://localhost:8080/"
        },
        "id": "w4uAeLO3CDmC",
        "outputId": "2188cba1-9c8e-4e4d-c597-ca8f6f9138eb"
      },
      "source": [
        "from sklearn.ensemble import RandomForestClassifier\r\n",
        "clf = RandomForestClassifier(max_depth=10, random_state=0)\r\n",
        "clf.fit(Xtrain, ytrain)\r\n",
        "y_ran = clf.predict(Xtest)\r\n",
        "\r\n",
        "f1_ran = f1_score(ytest, y_ran, average='macro')\r\n",
        "print('F1medida = ', f1_ran)\r\n",
        "print('Matriz de confusão')\r\n",
        "print(sk.confusion_matrix(ytest,y_ran))\r\n",
        "print()"
      ],
      "execution_count": 27,
      "outputs": [
        {
          "output_type": "stream",
          "text": [
            "F1medida =  0.7862722245075187\n",
            "Matriz de confusão\n",
            "[[22  2  1  0  0  0]\n",
            " [ 1 19  0  0  1  0]\n",
            " [ 4  1  2  0  0  0]\n",
            " [ 0  0  0  2  0  0]\n",
            " [ 0  0  0  0  1  0]\n",
            " [ 0  1  0  0  0  8]]\n",
            "\n"
          ],
          "name": "stdout"
        }
      ]
    },
    {
      "cell_type": "markdown",
      "metadata": {
        "id": "Xdy5cHzdCYgu"
      },
      "source": [
        "**KNN**"
      ]
    },
    {
      "cell_type": "code",
      "metadata": {
        "colab": {
          "base_uri": "https://localhost:8080/"
        },
        "id": "WFgn1qr24aGG",
        "outputId": "f4ba85cf-8681-42ce-f7c1-561e74396b0a"
      },
      "source": [
        "from sklearn.neighbors import KNeighborsClassifier\r\n",
        "F1medida_knn = []\r\n",
        "nknn = 3\r\n",
        "for i in range(1,nknn):\r\n",
        "    neigh = KNeighborsClassifier(n_neighbors = i)\r\n",
        "    neigh.fit(Xtrain, ytrain)\r\n",
        "    y_pred_knn = neigh.predict(Xtest)\r\n",
        "\r\n",
        "    F1medida_knn.append(f1_score(ytest, y_pred_knn, average='macro'))\r\n",
        "    print('F1medida para k = ',i, ': ', F1medida_knn[i-1])\r\n",
        "    print('Matriz de confusão para k = ', i)\r\n",
        "    print(sk.confusion_matrix(ytest,y_pred_knn))\r\n",
        "    print()\r\n",
        "#plt.plot(range(1,nknn),F1medida_knn)\r\n",
        "#plt.xlabel('Número de vizinhos k');\r\n",
        "#plt.ylabel('F1-medida');\r\n",
        "#pass"
      ],
      "execution_count": 9,
      "outputs": [
        {
          "output_type": "stream",
          "text": [
            "F1medida para k =  1 :  0.7600062539086929\n",
            "Matriz de confusão para k =  1\n",
            "[[19  3  3  0  0  0]\n",
            " [ 3 17  0  0  1  0]\n",
            " [ 5  0  2  0  0  0]\n",
            " [ 0  0  0  2  0  0]\n",
            " [ 0  0  0  0  1  0]\n",
            " [ 0  0  0  0  0  9]]\n",
            "\n",
            "F1medida para k =  2 :  0.5184416455702837\n",
            "Matriz de confusão para k =  2\n",
            "[[22  3  0  0  0  0]\n",
            " [ 4 16  0  0  1  0]\n",
            " [ 7  0  0  0  0  0]\n",
            " [ 0  1  0  1  0  0]\n",
            " [ 0  1  0  0  0  0]\n",
            " [ 0  1  0  0  0  8]]\n",
            "\n"
          ],
          "name": "stdout"
        }
      ]
    },
    {
      "cell_type": "markdown",
      "metadata": {
        "id": "xiyTKCc9CsSQ"
      },
      "source": [
        "**SVC**"
      ]
    },
    {
      "cell_type": "code",
      "metadata": {
        "colab": {
          "base_uri": "https://localhost:8080/"
        },
        "id": "McGq7OFtfXTV",
        "outputId": "64fded4b-0b73-4e03-ccf8-ab84c319a720"
      },
      "source": [
        "from sklearn.svm import SVC\r\n",
        "from sklearn.pipeline import make_pipeline\r\n",
        "from sklearn.preprocessing import StandardScaler\r\n",
        "\r\n",
        "clf = make_pipeline(StandardScaler(), SVC(gamma='auto'))\r\n",
        "clf.fit(Xtrain, ytrain)\r\n",
        "y_svc = clf.predict(Xtest)\r\n",
        "\r\n",
        "f1_svc = f1_score(ytest, y_svc, average='macro')\r\n",
        "print('F1medida = ', f1_svc)\r\n",
        "print('Matriz de confusão')\r\n",
        "print(sk.confusion_matrix(ytest,y_svc))\r\n",
        "print()"
      ],
      "execution_count": 10,
      "outputs": [
        {
          "output_type": "stream",
          "text": [
            "F1medida =  0.676500143554407\n",
            "Matriz de confusão\n",
            "[[22  3  0  0  0  0]\n",
            " [ 3 16  0  0  2  0]\n",
            " [ 4  3  0  0  0  0]\n",
            " [ 0  0  0  2  0  0]\n",
            " [ 0  0  0  0  1  0]\n",
            " [ 0  0  0  0  0  9]]\n",
            "\n"
          ],
          "name": "stdout"
        }
      ]
    },
    {
      "cell_type": "markdown",
      "metadata": {
        "id": "skrO9aefCc43"
      },
      "source": [
        "**Logistic Regression**"
      ]
    },
    {
      "cell_type": "code",
      "metadata": {
        "colab": {
          "base_uri": "https://localhost:8080/"
        },
        "id": "mJRXP5vvfA3y",
        "outputId": "73af92fd-0dad-482b-fe7e-a52a8058ab6a"
      },
      "source": [
        "from sklearn.linear_model import LogisticRegression\r\n",
        "from sklearn.metrics import accuracy_score\r\n",
        "\r\n",
        "reg = LogisticRegression(fit_intercept=True).fit(Xtrain,ytrain)\r\n",
        "y_reg = reg.predict(Xtest)\r\n",
        "\r\n",
        "\r\n",
        "f1_reg = f1_score(ytest, y_reg, average='macro')\r\n",
        "print('F1medida = ', f1_reg)\r\n",
        "print('Matriz de confusão')\r\n",
        "print(sk.confusion_matrix(ytest,y_reg))\r\n",
        "print()"
      ],
      "execution_count": 12,
      "outputs": [
        {
          "output_type": "stream",
          "text": [
            "F1medida =  0.6440170940170941\n",
            "Matriz de confusão\n",
            "[[19  6  0  0  0  0]\n",
            " [ 4 15  0  1  1  0]\n",
            " [ 4  3  0  0  0  0]\n",
            " [ 0  0  0  2  0  0]\n",
            " [ 0  0  0  0  1  0]\n",
            " [ 0  0  0  0  0  9]]\n",
            "\n"
          ],
          "name": "stdout"
        },
        {
          "output_type": "stream",
          "text": [
            "/usr/local/lib/python3.6/dist-packages/sklearn/linear_model/_logistic.py:940: ConvergenceWarning: lbfgs failed to converge (status=1):\n",
            "STOP: TOTAL NO. of ITERATIONS REACHED LIMIT.\n",
            "\n",
            "Increase the number of iterations (max_iter) or scale the data as shown in:\n",
            "    https://scikit-learn.org/stable/modules/preprocessing.html\n",
            "Please also refer to the documentation for alternative solver options:\n",
            "    https://scikit-learn.org/stable/modules/linear_model.html#logistic-regression\n",
            "  extra_warning_msg=_LOGISTIC_SOLVER_CONVERGENCE_MSG)\n"
          ],
          "name": "stderr"
        }
      ]
    },
    {
      "cell_type": "markdown",
      "metadata": {
        "id": "YaCAhBqoCgfd"
      },
      "source": [
        "**K-Means**"
      ]
    },
    {
      "cell_type": "code",
      "metadata": {
        "colab": {
          "base_uri": "https://localhost:8080/"
        },
        "id": "psEz2kmffMpX",
        "outputId": "f4fd8999-b9b0-4b8d-eb8a-9f9c4f5bc751"
      },
      "source": [
        "from sklearn.cluster import KMeans\r\n",
        "kmeans = KMeans(n_clusters = 6, init = 'k-means++', max_iter = 300, n_init = 10, random_state = 0).fit(Xtrain)\r\n",
        "y_kmeans = kmeans.predict(Xtest)\r\n",
        "\r\n",
        "f1_kmeans = f1_score(ytest, y_kmeans, average='macro')\r\n",
        "print('F1medida = ', f1_kmeans)\r\n",
        "print('Matriz de confusão')\r\n",
        "print(sk.confusion_matrix(ytest,y_kmeans))\r\n",
        "print()"
      ],
      "execution_count": 13,
      "outputs": [
        {
          "output_type": "stream",
          "text": [
            "F1medida =  0.14814814814814814\n",
            "Matriz de confusão\n",
            "[[ 8  0  0  0  0 17]\n",
            " [ 1  0  0  5  0 15]\n",
            " [ 2  0  0  0  0  5]\n",
            " [ 0  0  0  2  0  0]\n",
            " [ 0  1  0  0  0  0]\n",
            " [ 0  8  0  0  1  0]]\n",
            "\n"
          ],
          "name": "stdout"
        }
      ]
    },
    {
      "cell_type": "code",
      "metadata": {
        "colab": {
          "base_uri": "https://localhost:8080/",
          "height": 609
        },
        "id": "cuY99qEoEKSX",
        "outputId": "73fe8f3f-0f46-47e5-f31a-6481b5e89688"
      },
      "source": [
        "sns.FacetGrid(df,hue=\"Type\",height=5).map(sns.distplot,\"RI\").add_legend();"
      ],
      "execution_count": 30,
      "outputs": [
        {
          "output_type": "stream",
          "text": [
            "/usr/local/lib/python3.6/dist-packages/seaborn/distributions.py:2557: FutureWarning: `distplot` is a deprecated function and will be removed in a future version. Please adapt your code to use either `displot` (a figure-level function with similar flexibility) or `histplot` (an axes-level function for histograms).\n",
            "  warnings.warn(msg, FutureWarning)\n",
            "/usr/local/lib/python3.6/dist-packages/seaborn/distributions.py:2557: FutureWarning: `distplot` is a deprecated function and will be removed in a future version. Please adapt your code to use either `displot` (a figure-level function with similar flexibility) or `histplot` (an axes-level function for histograms).\n",
            "  warnings.warn(msg, FutureWarning)\n",
            "/usr/local/lib/python3.6/dist-packages/seaborn/distributions.py:2557: FutureWarning: `distplot` is a deprecated function and will be removed in a future version. Please adapt your code to use either `displot` (a figure-level function with similar flexibility) or `histplot` (an axes-level function for histograms).\n",
            "  warnings.warn(msg, FutureWarning)\n",
            "/usr/local/lib/python3.6/dist-packages/seaborn/distributions.py:2557: FutureWarning: `distplot` is a deprecated function and will be removed in a future version. Please adapt your code to use either `displot` (a figure-level function with similar flexibility) or `histplot` (an axes-level function for histograms).\n",
            "  warnings.warn(msg, FutureWarning)\n",
            "/usr/local/lib/python3.6/dist-packages/seaborn/distributions.py:2557: FutureWarning: `distplot` is a deprecated function and will be removed in a future version. Please adapt your code to use either `displot` (a figure-level function with similar flexibility) or `histplot` (an axes-level function for histograms).\n",
            "  warnings.warn(msg, FutureWarning)\n",
            "/usr/local/lib/python3.6/dist-packages/seaborn/distributions.py:2557: FutureWarning: `distplot` is a deprecated function and will be removed in a future version. Please adapt your code to use either `displot` (a figure-level function with similar flexibility) or `histplot` (an axes-level function for histograms).\n",
            "  warnings.warn(msg, FutureWarning)\n"
          ],
          "name": "stderr"
        },
        {
          "output_type": "display_data",
          "data": {
            "image/png": "[encoded data removed]",
            "text/plain": [
              "<Figure size 402.375x360 with 1 Axes>"
            ]
          },
          "metadata": {
            "tags": [],
            "needs_background": "light"
          }
        }
      ]
    },
    {
      "cell_type": "code",
      "metadata": {
        "colab": {
          "base_uri": "https://localhost:8080/",
          "height": 589
        },
        "id": "DT_2wFL1e8Iy",
        "outputId": "00ae197c-4694-4026-f386-cc7e593c321d"
      },
      "source": [
        "corrMatrix = X.corr()\r\n",
        "fig, ax = plt.subplots(figsize=(20,10))         # Sample figsize in inches\r\n",
        "sns.heatmap(corrMatrix, annot=True, ax=ax,cmap=\"YlGnBu\", center = 0)\r\n",
        "plt.show()"
      ],
      "execution_count": 16,
      "outputs": [
        {
          "output_type": "display_data",
          "data": {
            "image/png": "[encoded data removed]",
            "text/plain": [
              "<Figure size 1440x720 with 2 Axes>"
            ]
          },
          "metadata": {
            "tags": [],
            "needs_background": "light"
          }
        }
      ]
    },
    {
      "cell_type": "code",
      "metadata": {
        "id": "Sm2B6C9_EsCL"
      },
      "source": [
        ""
      ],
      "execution_count": 16,
      "outputs": []
    }
  ]
}