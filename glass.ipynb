{
  "nbformat": 4,
  "nbformat_minor": 0,
  "metadata": {
    "colab": {
      "name": "glass.ipynb",
      "provenance": [],
      "collapsed_sections": [],
      "authorship_tag": "ABX9TyOk4KGhqDcMrw8nXPQlHtRr",
      "include_colab_link": true
    },
    "kernelspec": {
      "name": "python3",
      "display_name": "Python 3"
    }
  },
  "cells": [
    {
      "cell_type": "markdown",
      "metadata": {
        "id": "view-in-github",
        "colab_type": "text"
      },
      "source": [
        "<a href=\"https://colab.research.google.com/github/marinacer/IA048/blob/main/glass.ipynb\" target=\"_parent\"><img src=\"https://colab.research.google.com/assets/colab-badge.svg\" alt=\"Open In Colab\"/></a>"
      ]
    },
    {
      "cell_type": "code",
      "metadata": {
        "id": "GQ_MjwF2deKt"
      },
      "source": [
        "import csv\r\n",
        "import numpy as np\r\n",
        "import pandas as pd\r\n",
        "import seaborn as sns\r\n",
        "import sklearn.metrics as sk\r\n",
        "import matplotlib.pyplot as plt\r\n",
        "from sklearn import preprocessing\r\n",
        "from sklearn.metrics import f1_score\r\n",
        "from sklearn.metrics import accuracy_score\r\n",
        "from sklearn.model_selection import train_test_split"
      ],
      "execution_count": 15,
      "outputs": []
    },
    {
      "cell_type": "code",
      "metadata": {
        "colab": {
          "base_uri": "https://localhost:8080/",
          "height": 206
        },
        "id": "DATxbZEYdhY2",
        "outputId": "3f77107b-d428-45f9-c23a-786231524d3e"
      },
      "source": [
        "# open the csv file to dataframe\r\n",
        "df = pd.read_csv('glass.csv')\r\n",
        "df.head()\r\n",
        "\r\n",
        "# atributes to X and labels to y\r\n",
        "X = df.drop('Type',axis = 1)\r\n",
        "y = df.Type\r\n",
        "df.head()"
      ],
      "execution_count": 16,
      "outputs": [
        {
          "output_type": "execute_result",
          "data": {
            "text/html": [
              "<div>\n",
              "<style scoped>\n",
              "    .dataframe tbody tr th:only-of-type {\n",
              "        vertical-align: middle;\n",
              "    }\n",
              "\n",
              "    .dataframe tbody tr th {\n",
              "        vertical-align: top;\n",
              "    }\n",
              "\n",
              "    .dataframe thead th {\n",
              "        text-align: right;\n",
              "    }\n",
              "</style>\n",
              "<table border=\"1\" class=\"dataframe\">\n",
              "  <thead>\n",
              "    <tr style=\"text-align: right;\">\n",
              "      <th></th>\n",
              "      <th>RI</th>\n",
              "      <th>Na</th>\n",
              "      <th>Mg</th>\n",
              "      <th>Al</th>\n",
              "      <th>Si</th>\n",
              "      <th>K</th>\n",
              "      <th>Ca</th>\n",
              "      <th>Ba</th>\n",
              "      <th>Fe</th>\n",
              "      <th>Type</th>\n",
              "    </tr>\n",
              "  </thead>\n",
              "  <tbody>\n",
              "    <tr>\n",
              "      <th>0</th>\n",
              "      <td>1.52101</td>\n",
              "      <td>13.64</td>\n",
              "      <td>4.49</td>\n",
              "      <td>1.10</td>\n",
              "      <td>71.78</td>\n",
              "      <td>0.06</td>\n",
              "      <td>8.75</td>\n",
              "      <td>0.0</td>\n",
              "      <td>0.0</td>\n",
              "      <td>1</td>\n",
              "    </tr>\n",
              "    <tr>\n",
              "      <th>1</th>\n",
              "      <td>1.51761</td>\n",
              "      <td>13.89</td>\n",
              "      <td>3.60</td>\n",
              "      <td>1.36</td>\n",
              "      <td>72.73</td>\n",
              "      <td>0.48</td>\n",
              "      <td>7.83</td>\n",
              "      <td>0.0</td>\n",
              "      <td>0.0</td>\n",
              "      <td>1</td>\n",
              "    </tr>\n",
              "    <tr>\n",
              "      <th>2</th>\n",
              "      <td>1.51618</td>\n",
              "      <td>13.53</td>\n",
              "      <td>3.55</td>\n",
              "      <td>1.54</td>\n",
              "      <td>72.99</td>\n",
              "      <td>0.39</td>\n",
              "      <td>7.78</td>\n",
              "      <td>0.0</td>\n",
              "      <td>0.0</td>\n",
              "      <td>1</td>\n",
              "    </tr>\n",
              "    <tr>\n",
              "      <th>3</th>\n",
              "      <td>1.51766</td>\n",
              "      <td>13.21</td>\n",
              "      <td>3.69</td>\n",
              "      <td>1.29</td>\n",
              "      <td>72.61</td>\n",
              "      <td>0.57</td>\n",
              "      <td>8.22</td>\n",
              "      <td>0.0</td>\n",
              "      <td>0.0</td>\n",
              "      <td>1</td>\n",
              "    </tr>\n",
              "    <tr>\n",
              "      <th>4</th>\n",
              "      <td>1.51742</td>\n",
              "      <td>13.27</td>\n",
              "      <td>3.62</td>\n",
              "      <td>1.24</td>\n",
              "      <td>73.08</td>\n",
              "      <td>0.55</td>\n",
              "      <td>8.07</td>\n",
              "      <td>0.0</td>\n",
              "      <td>0.0</td>\n",
              "      <td>1</td>\n",
              "    </tr>\n",
              "  </tbody>\n",
              "</table>\n",
              "</div>"
            ],
            "text/plain": [
              "        RI     Na    Mg    Al     Si     K    Ca   Ba   Fe  Type\n",
              "0  1.52101  13.64  4.49  1.10  71.78  0.06  8.75  0.0  0.0     1\n",
              "1  1.51761  13.89  3.60  1.36  72.73  0.48  7.83  0.0  0.0     1\n",
              "2  1.51618  13.53  3.55  1.54  72.99  0.39  7.78  0.0  0.0     1\n",
              "3  1.51766  13.21  3.69  1.29  72.61  0.57  8.22  0.0  0.0     1\n",
              "4  1.51742  13.27  3.62  1.24  73.08  0.55  8.07  0.0  0.0     1"
            ]
          },
          "metadata": {
            "tags": []
          },
          "execution_count": 16
        }
      ]
    },
    {
      "cell_type": "code",
      "metadata": {
        "id": "loRusGXcZeqa"
      },
      "source": [
        "# label encoding. necessário para corrigir um erro do dataset na nomenclatura das classes\r\n",
        "label = preprocessing.LabelEncoder()\r\n",
        "label.fit(y)\r\n",
        "y_label = label.transform(y)"
      ],
      "execution_count": 17,
      "outputs": []
    },
    {
      "cell_type": "code",
      "metadata": {
        "id": "nak2u9tnhlfk"
      },
      "source": [
        "#Xtrain, Xtest, ytrain, ytest = train_test_split(X, y_label, test_size = 0.30, random_state = 0)\r\n",
        "Xtrain, Xtest, ytrain, ytest = train_test_split(X, y_label, test_size = 0.30, stratify = y)"
      ],
      "execution_count": 18,
      "outputs": []
    },
    {
      "cell_type": "markdown",
      "metadata": {
        "id": "vZZQfOQ-saYU"
      },
      "source": [
        "**Oversampling**"
      ]
    },
    {
      "cell_type": "code",
      "metadata": {
        "colab": {
          "base_uri": "https://localhost:8080/"
        },
        "id": "Cic196i0scfG",
        "outputId": "a0e13d95-fd71-4f89-e7a8-83b94026c5a3"
      },
      "source": [
        "import imblearn\r\n",
        "from imblearn.over_sampling import RandomOverSampler\r\n",
        "\r\n",
        "# define oversampling strategy\r\n",
        "oversample = RandomOverSampler(sampling_strategy='minority')\r\n",
        "Xtrain_over, ytrain_over = oversample.fit_resample(Xtrain, ytrain)"
      ],
      "execution_count": 19,
      "outputs": [
        {
          "output_type": "stream",
          "text": [
            "/usr/local/lib/python3.6/dist-packages/sklearn/utils/deprecation.py:87: FutureWarning: Function safe_indexing is deprecated; safe_indexing is deprecated in version 0.22 and will be removed in version 0.24.\n",
            "  warnings.warn(msg, category=FutureWarning)\n"
          ],
          "name": "stderr"
        }
      ]
    },
    {
      "cell_type": "code",
      "metadata": {
        "colab": {
          "base_uri": "https://localhost:8080/"
        },
        "id": "439DCUDaBPln",
        "outputId": "fe60da01-2cc8-48ae-cbf4-73cec4071143"
      },
      "source": [
        "# Random Forest\r\n",
        "from sklearn.ensemble import RandomForestClassifier\r\n",
        "\r\n",
        "clf = RandomForestClassifier(max_depth=10, random_state=0)\r\n",
        "clf.fit(Xtrain, ytrain)\r\n",
        "y_ran = clf.predict(Xtest)\r\n",
        "f1_ran = f1_score(ytest, y_ran, average='macro')\r\n",
        "cmatrix_ran = sk.confusion_matrix(ytest,y_ran)\r\n",
        "\r\n",
        "print('Non oversampling')\r\n",
        "print('F1medida = ', f1_ran)\r\n",
        "print('Acurácia = ',accuracy_score(ytest,y_ran),'\\n')\r\n",
        "\r\n",
        "clf_over = RandomForestClassifier(max_depth=10, random_state=0)\r\n",
        "clf_over.fit(Xtrain_over, ytrain_over)\r\n",
        "y_ran_over = clf_over.predict(Xtest)\r\n",
        "f1_ran_over = f1_score(ytest, y_ran_over, average='macro')\r\n",
        "cmatrix_ran_over = sk.confusion_matrix(ytest,y_ran_over)\r\n",
        "\r\n",
        "print('Oversampling')\r\n",
        "print('F1medida = ', f1_ran_over)\r\n",
        "print('Acurácia = ',accuracy_score(ytest,y_ran_over))"
      ],
      "execution_count": 20,
      "outputs": [
        {
          "output_type": "stream",
          "text": [
            "Non oversampling\n",
            "F1medida =  0.737312925170068\n",
            "Acurácia =  0.7076923076923077 \n",
            "\n",
            "Oversampling\n",
            "F1medida =  0.759349962207105\n",
            "Acurácia =  0.6923076923076923\n"
          ],
          "name": "stdout"
        }
      ]
    },
    {
      "cell_type": "code",
      "metadata": {
        "colab": {
          "base_uri": "https://localhost:8080/"
        },
        "id": "8guyJoIIB0Mp",
        "outputId": "8ca657af-5703-48c4-b57f-49cbe3195eae"
      },
      "source": [
        "# KNN\r\n",
        "from sklearn.neighbors import KNeighborsClassifier\r\n",
        "\r\n",
        "neigh = KNeighborsClassifier(n_neighbors = 1)\r\n",
        "neigh.fit(Xtrain, ytrain)\r\n",
        "y_knn = neigh.predict(Xtest)\r\n",
        "f1_knn = f1_score(ytest, y_knn, average='macro')\r\n",
        "cmatrix_knn = sk.confusion_matrix(ytest,y_knn)\r\n",
        "\r\n",
        "print('Non oversampling')\r\n",
        "print('F1medida = ', f1_knn)\r\n",
        "print('Acurácia = ',accuracy_score(ytest,y_knn),'\\n')\r\n",
        "\r\n",
        "neigh_over = KNeighborsClassifier(n_neighbors = 1)\r\n",
        "neigh_over.fit(Xtrain_over, ytrain_over)\r\n",
        "y_knn_over = neigh_over.predict(Xtest)\r\n",
        "f1_knn_over = f1_score(ytest, y_knn_over, average='macro')\r\n",
        "cmatrix_knn_over = sk.confusion_matrix(ytest,y_knn_over)\r\n",
        "\r\n",
        "print('Oversampling')\r\n",
        "print('F1medida = ', f1_knn_over)\r\n",
        "print('Acurácia = ',accuracy_score(ytest,y_knn_over))"
      ],
      "execution_count": 21,
      "outputs": [
        {
          "output_type": "stream",
          "text": [
            "Non oversampling\n",
            "F1medida =  0.7141423176306897\n",
            "Acurácia =  0.6923076923076923 \n",
            "\n",
            "Oversampling\n",
            "F1medida =  0.7141423176306897\n",
            "Acurácia =  0.6923076923076923\n"
          ],
          "name": "stdout"
        }
      ]
    },
    {
      "cell_type": "code",
      "metadata": {
        "colab": {
          "base_uri": "https://localhost:8080/",
          "height": 331
        },
        "id": "8Vfy2IodD1t4",
        "outputId": "de0ee4b6-6e0e-436b-d9a7-bc1654e14142"
      },
      "source": [
        "# confusion matrix with sns\r\n",
        "plt.figure(figsize=(5,5))\r\n",
        "sns.heatmap(cmatrix_ran, annot=True, fmt=\".0f\", linewidths=.5, square = True, cmap = 'Blues');\r\n",
        "plt.ylabel('Actual label');\r\n",
        "plt.xlabel('Predicted label');\r\n",
        "all_sample_title = 'Accuracy Score: {:.4f}'.format(accuracy_score(ytest,y_ran))\r\n",
        "plt.title(all_sample_title, size = 15)"
      ],
      "execution_count": null,
      "outputs": [
        {
          "output_type": "execute_result",
          "data": {
            "text/plain": [
              "Text(0.5, 1.0, 'Accuracy Score: 0.8154')"
            ]
          },
          "metadata": {
            "tags": []
          },
          "execution_count": 9
        },
        {
          "output_type": "display_data",
          "data": {
            "image/png": "[encoded data removed]",
            "text/plain": [
              "<Figure size 360x360 with 2 Axes>"
            ]
          },
          "metadata": {
            "tags": [],
            "needs_background": "light"
          }
        }
      ]
    },
    {
      "cell_type": "code",
      "metadata": {
        "colab": {
          "base_uri": "https://localhost:8080/",
          "height": 384
        },
        "id": "Rol7hWg9Y23J",
        "outputId": "2d7104ea-6d43-4f40-bd13-8a973f966220"
      },
      "source": [
        "# gráfico da quantidade de amostras por classe\r\n",
        "unique, counts = np.unique(y, return_counts=True)\r\n",
        "print(\"Quantidade de amostras total:\",counts)\r\n",
        "fig = plt.figure()\r\n",
        "ax = fig.add_axes([0,0,1,1])\r\n",
        "ax.bar([1,2,3,4,5,6],[70,76,17,13,9,29])\r\n",
        "plt.title(\"Amostras por Classe\")\r\n",
        "plt.xlabel(\"Classe\")\r\n",
        "plt.ylabel(\"Quantidade de amostras\")\r\n",
        "plt.show()"
      ],
      "execution_count": null,
      "outputs": [
        {
          "output_type": "stream",
          "text": [
            "Quantidade de amostras total: [70 76 17 13  9 29]\n"
          ],
          "name": "stdout"
        },
        {
          "output_type": "display_data",
          "data": {
            "image/png": "[encoded data removed]",
            "text/plain": [
              "<Figure size 432x288 with 1 Axes>"
            ]
          },
          "metadata": {
            "tags": [],
            "needs_background": "light"
          }
        }
      ]
    },
    {
      "cell_type": "code",
      "metadata": {
        "id": "DT_2wFL1e8Iy"
      },
      "source": [
        "# correlation matrix\r\n",
        "corrMatrix = X.corr()\r\n",
        "#fig, ax = plt.subplots(figsize=(20,10))\r\n",
        "#sns.heatmap(corrMatrix, annot=True, ax=ax,cmap=\"YlGnBu\", center = 0)\r\n",
        "#plt.show()"
      ],
      "execution_count": null,
      "outputs": []
    },
    {
      "cell_type": "code",
      "metadata": {
        "id": "BnMJlX5m7paV"
      },
      "source": [
        "# histogram\r\n",
        "#Xtrainpd = pd.DataFrame(Xtrain)\r\n",
        "#fig, ax = plt.subplots(figsize=(30,20)) \r\n",
        "#Xtrainpd.hist(ax = ax)\r\n",
        "#pass"
      ],
      "execution_count": null,
      "outputs": []
    },
    {
      "cell_type": "markdown",
      "metadata": {
        "id": "gEfkBijxEVwV"
      },
      "source": [
        "**Rascunho**"
      ]
    },
    {
      "cell_type": "code",
      "metadata": {
        "id": "cuY99qEoEKSX"
      },
      "source": [
        "#sns.FacetGrid(df,hue=\"Type\",height=5).map(sns.distplot,\"RI\").add_legend();"
      ],
      "execution_count": null,
      "outputs": []
    },
    {
      "cell_type": "code",
      "metadata": {
        "colab": {
          "base_uri": "https://localhost:8080/",
          "height": 1000
        },
        "id": "WFgn1qr24aGG",
        "outputId": "e6a27292-d816-46fd-cc8c-20c6893c9a8f"
      },
      "source": [
        "F1medida_knn_2 = []\r\n",
        "nknn = 11\r\n",
        "for i in range(1,nknn):\r\n",
        "    neigh_2 = KNeighborsClassifier(n_neighbors = i)\r\n",
        "    neigh_2.fit(Xtrain, ytrain)\r\n",
        "    y_knn_2 = neigh_2.predict(Xtest)\r\n",
        "\r\n",
        "    F1medida_knn_2.append(f1_score(ytest, y_knn_2, average='macro'))\r\n",
        "    print('F1medida para k = ',i, ': ', F1medida_knn_2[i-1])\r\n",
        "    print('Matriz de confusão para k = ', i)\r\n",
        "    print(sk.confusion_matrix(ytest,y_knn_2))\r\n",
        "    print()\r\n",
        "plt.plot(range(1,nknn),F1medida_knn_2)\r\n",
        "plt.xlabel('Número de vizinhos k');\r\n",
        "plt.ylabel('F1-medida');\r\n",
        "pass"
      ],
      "execution_count": null,
      "outputs": [
        {
          "output_type": "stream",
          "text": [
            "F1medida para k =  1 :  0.5556066223406971\n",
            "Matriz de confusão para k =  1\n",
            "[[15  3  3  0  0  0]\n",
            " [ 6 14  1  2  0  0]\n",
            " [ 3  0  2  0  0  0]\n",
            " [ 0  2  0  1  0  1]\n",
            " [ 0  1  0  0  2  0]\n",
            " [ 1  0  0  1  1  6]]\n",
            "\n",
            "F1medida para k =  2 :  0.5581810921433563\n",
            "Matriz de confusão para k =  2\n",
            "[[18  3  0  0  0  0]\n",
            " [ 9 14  0  0  0  0]\n",
            " [ 4  0  1  0  0  0]\n",
            " [ 0  3  0  1  0  0]\n",
            " [ 0  1  0  0  2  0]\n",
            " [ 1  1  0  1  1  5]]\n",
            "\n",
            "F1medida para k =  3 :  0.6089579020013803\n",
            "Matriz de confusão para k =  3\n",
            "[[18  3  0  0  0  0]\n",
            " [ 7 16  0  0  0  0]\n",
            " [ 3  0  2  0  0  0]\n",
            " [ 0  2  0  1  0  1]\n",
            " [ 0  1  0  0  2  0]\n",
            " [ 1  1  0  1  1  5]]\n",
            "\n",
            "F1medida para k =  4 :  0.44412542156594653\n",
            "Matriz de confusão para k =  4\n",
            "[[18  3  0  0  0  0]\n",
            " [ 8 15  0  0  0  0]\n",
            " [ 5  0  0  0  0  0]\n",
            " [ 0  3  0  0  0  1]\n",
            " [ 0  1  0  0  2  0]\n",
            " [ 1  1  0  1  1  5]]\n",
            "\n",
            "F1medida para k =  5 :  0.5364229024943311\n",
            "Matriz de confusão para k =  5\n",
            "[[16  5  0  0  0  0]\n",
            " [ 6 17  0  0  0  0]\n",
            " [ 5  0  0  0  0  0]\n",
            " [ 0  2  0  1  0  1]\n",
            " [ 0  0  0  0  3  0]\n",
            " [ 1  1  0  1  1  5]]\n",
            "\n",
            "F1medida para k =  6 :  0.5488492063492064\n",
            "Matriz de confusão para k =  6\n",
            "[[17  4  0  0  0  0]\n",
            " [ 6 17  0  0  0  0]\n",
            " [ 5  0  0  0  0  0]\n",
            " [ 0  3  0  1  0  0]\n",
            " [ 0  0  0  0  3  0]\n",
            " [ 1  1  0  1  1  5]]\n",
            "\n",
            "F1medida para k =  7 :  0.5126133786848073\n",
            "Matriz de confusão para k =  7\n",
            "[[15  6  0  0  0  0]\n",
            " [ 6 16  0  1  0  0]\n",
            " [ 5  0  0  0  0  0]\n",
            " [ 0  2  0  1  1  0]\n",
            " [ 0  0  0  0  3  0]\n",
            " [ 1  2  0  0  1  5]]\n",
            "\n",
            "F1medida para k =  8 :  0.5193194866599121\n",
            "Matriz de confusão para k =  8\n",
            "[[15  6  0  0  0  0]\n",
            " [ 5 17  0  1  0  0]\n",
            " [ 5  0  0  0  0  0]\n",
            " [ 0  2  0  1  1  0]\n",
            " [ 0  0  0  0  3  0]\n",
            " [ 1  2  0  0  1  5]]\n",
            "\n",
            "F1medida para k =  9 :  0.42745079979122536\n",
            "Matriz de confusão para k =  9\n",
            "[[15  6  0  0  0  0]\n",
            " [ 5 16  0  1  1  0]\n",
            " [ 5  0  0  0  0  0]\n",
            " [ 0  1  0  0  3  0]\n",
            " [ 0  0  0  0  3  0]\n",
            " [ 1  2  0  0  1  5]]\n",
            "\n",
            "F1medida para k =  10 :  0.44148744281723\n",
            "Matriz de confusão para k =  10\n",
            "[[16  5  0  0  0  0]\n",
            " [ 4 17  0  1  1  0]\n",
            " [ 5  0  0  0  0  0]\n",
            " [ 0  1  0  0  3  0]\n",
            " [ 0  0  0  0  3  0]\n",
            " [ 1  2  0  0  1  5]]\n",
            "\n"
          ],
          "name": "stdout"
        },
        {
          "output_type": "display_data",
          "data": {
            "image/png": "[encoded data removed]",
            "text/plain": [
              "<Figure size 432x288 with 1 Axes>"
            ]
          },
          "metadata": {
            "tags": [],
            "needs_background": "light"
          }
        }
      ]
    },
    {
      "cell_type": "code",
      "metadata": {
        "colab": {
          "base_uri": "https://localhost:8080/",
          "height": 346
        },
        "id": "McGq7OFtfXTV",
        "outputId": "d363bdcd-75fb-47aa-e833-02d1fe2da071"
      },
      "source": [
        "from sklearn.svm import SVC\r\n",
        "from sklearn.pipeline import make_pipeline\r\n",
        "from sklearn.preprocessing import StandardScaler\r\n",
        "\r\n",
        "clf = make_pipeline(StandardScaler(), SVC(gamma='auto'))\r\n",
        "clf.fit(Xtrain, ytrain)\r\n",
        "y_svc = clf.predict(Xtest)\r\n",
        "\r\n",
        "f1_svc = f1_score(ytest, y_svc, average='macro')\r\n",
        "cmatrix_svc = sk.confusion_matrix(ytest,y_svc)\r\n",
        "print('F1medida = ', f1_svc)\r\n",
        "\r\n",
        "plt.figure(figsize=(5,5))\r\n",
        "sns.heatmap(cmatrix_svc, annot=True, fmt=\".0f\", linewidths=.5, square = True, cmap = 'Blues');\r\n",
        "plt.ylabel('Actual label');\r\n",
        "plt.xlabel('Predicted label');\r\n",
        "all_sample_title = 'Accuracy Score: {:.4f}'.format(accuracy_score(ytest,y_svc))\r\n",
        "plt.title(all_sample_title, size = 15)"
      ],
      "execution_count": null,
      "outputs": [
        {
          "output_type": "stream",
          "text": [
            "F1medida =  0.676500143554407\n"
          ],
          "name": "stdout"
        },
        {
          "output_type": "execute_result",
          "data": {
            "text/plain": [
              "Text(0.5, 1.0, 'Accuracy Score: 0.7692')"
            ]
          },
          "metadata": {
            "tags": []
          },
          "execution_count": 251
        },
        {
          "output_type": "display_data",
          "data": {
            "image/png": "[encoded data removed]",
            "text/plain": [
              "<Figure size 360x360 with 2 Axes>"
            ]
          },
          "metadata": {
            "tags": [],
            "needs_background": "light"
          }
        }
      ]
    },
    {
      "cell_type": "markdown",
      "metadata": {
        "id": "xiyTKCc9CsSQ"
      },
      "source": [
        "**SVC**"
      ]
    },
    {
      "cell_type": "markdown",
      "metadata": {
        "id": "skrO9aefCc43"
      },
      "source": [
        "**Logistic Regression**"
      ]
    },
    {
      "cell_type": "code",
      "metadata": {
        "colab": {
          "base_uri": "https://localhost:8080/",
          "height": 517
        },
        "id": "mJRXP5vvfA3y",
        "outputId": "112a0aa5-2600-4740-faa2-f5a9bb929b9f"
      },
      "source": [
        "from sklearn.linear_model import LogisticRegression\r\n",
        "from sklearn.metrics import accuracy_score\r\n",
        "\r\n",
        "reg = LogisticRegression(fit_intercept=True).fit(Xtrain,ytrain)\r\n",
        "y_reg = reg.predict(Xtest)\r\n",
        "\r\n",
        "f1_reg = f1_score(ytest, y_reg, average='macro')\r\n",
        "cmatrix_reg = sk.confusion_matrix(ytest,y_reg)\r\n",
        "print('F1medida = ', f1_reg)\r\n",
        "\r\n",
        "plt.figure(figsize=(5,5))\r\n",
        "sns.heatmap(cmatrix_reg, annot=True, fmt=\".0f\", linewidths=.5, square = True, cmap = 'Blues');\r\n",
        "plt.ylabel('Actual label');\r\n",
        "plt.xlabel('Predicted label');\r\n",
        "all_sample_title = 'Accuracy Score: {:.4f}'.format(accuracy_score(ytest,y_reg))\r\n",
        "plt.title(all_sample_title, size = 15)"
      ],
      "execution_count": null,
      "outputs": [
        {
          "output_type": "stream",
          "text": [
            "F1medida =  0.4509178743961353\n"
          ],
          "name": "stdout"
        },
        {
          "output_type": "stream",
          "text": [
            "/usr/local/lib/python3.6/dist-packages/sklearn/linear_model/_logistic.py:940: ConvergenceWarning: lbfgs failed to converge (status=1):\n",
            "STOP: TOTAL NO. of ITERATIONS REACHED LIMIT.\n",
            "\n",
            "Increase the number of iterations (max_iter) or scale the data as shown in:\n",
            "    https://scikit-learn.org/stable/modules/preprocessing.html\n",
            "Please also refer to the documentation for alternative solver options:\n",
            "    https://scikit-learn.org/stable/modules/linear_model.html#logistic-regression\n",
            "  extra_warning_msg=_LOGISTIC_SOLVER_CONVERGENCE_MSG)\n"
          ],
          "name": "stderr"
        },
        {
          "output_type": "execute_result",
          "data": {
            "text/plain": [
              "Text(0.5, 1.0, 'Accuracy Score: 0.6615')"
            ]
          },
          "metadata": {
            "tags": []
          },
          "execution_count": 252
        },
        {
          "output_type": "display_data",
          "data": {
            "image/png": "[encoded data removed]",
            "text/plain": [
              "<Figure size 360x360 with 2 Axes>"
            ]
          },
          "metadata": {
            "tags": [],
            "needs_background": "light"
          }
        }
      ]
    },
    {
      "cell_type": "markdown",
      "metadata": {
        "id": "_Dor-uOe7bMl"
      },
      "source": [
        "**MLP**"
      ]
    },
    {
      "cell_type": "code",
      "metadata": {
        "id": "Frurr9Wx8ZGh"
      },
      "source": [
        "import tensorflow\r\n",
        "from tensorflow.keras.models import Sequential\r\n",
        "from tensorflow.keras.layers import Dense\r\n",
        "from tensorflow.keras.utils import to_categorical\r\n",
        "from tensorflow.keras.layers import LeakyReLU\r\n",
        "from tensorflow.keras.callbacks import EarlyStopping\r\n",
        "\r\n",
        "Xtrain2, Xtest2, ytrain2, ytest2 = train_test_split(X, y_label, test_size = 0.20, stratify = y)\r\n",
        "\r\n",
        "feature_vector_length = Xtrain.shape[1]\r\n",
        "num_classes = 6\r\n",
        "input_shape = (feature_vector_length,)\r\n",
        "ytrain2 = to_categorical(ytrain2, 6)\r\n",
        "ytest2 = to_categorical(ytest2, 6)"
      ],
      "execution_count": null,
      "outputs": []
    },
    {
      "cell_type": "code",
      "metadata": {
        "id": "wEGF-7tj7a4T"
      },
      "source": [
        "#Nneuronios = list(range(1,25))\r\n",
        "#listacc = []\r\n",
        "#for i in Nneuronios:\r\n",
        "#    model = Sequential()\r\n",
        "#    model.add(Dense(i, input_shape=input_shape))\r\n",
        "#    model.add(LeakyReLU(alpha=0.1))\r\n",
        "#    model.add(Dense(num_classes, activation='softmax'))\r\n",
        "#    Nepochs = 1000\r\n",
        "#    model.compile(loss='categorical_crossentropy', optimizer='adam', metrics=['accuracy'])\r\n",
        "#    es = EarlyStopping(monitor='val_loss', mode='min', min_delta=0.0005, verbose=1, patience=50)\r\n",
        "#    result = model.fit(Xtrain2, ytrain2, epochs=Nepochs, batch_size=50, verbose=1, validation_data=(Xtest2,ytest2), callbacks=[es])\r\n",
        "#    accuracy = model.evaluate(Xtest2, ytest2, verbose=1)[1]\r\n",
        "#    listacc.append(accuracy)\r\n",
        "\r\n",
        "#listacc = np.array(listacc)\r\n",
        "#plt.plot(Nneuronios, listacc)\r\n",
        "#plt.xlabel('Nº de neurônios na camada oculta')\r\n",
        "#plt.ylabel('Acurácia')\r\n",
        "#plt.show()"
      ],
      "execution_count": null,
      "outputs": []
    }
  ]
}