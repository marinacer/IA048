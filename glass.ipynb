{
  "nbformat": 4,
  "nbformat_minor": 0,
  "metadata": {
    "colab": {
      "name": "glass.ipynb",
      "provenance": [],
      "collapsed_sections": [],
      "authorship_tag": "ABX9TyOKygSaLNDqTsItveazc+E+",
      "include_colab_link": true
    },
    "kernelspec": {
      "name": "python3",
      "display_name": "Python 3"
    }
  },
  "cells": [
    {
      "cell_type": "markdown",
      "metadata": {
        "id": "view-in-github",
        "colab_type": "text"
      },
      "source": [
        "<a href=\"https://colab.research.google.com/github/marinacer/IA048/blob/main/glass.ipynb\" target=\"_parent\"><img src=\"https://colab.research.google.com/assets/colab-badge.svg\" alt=\"Open In Colab\"/></a>"
      ]
    },
    {
      "cell_type": "markdown",
      "metadata": {
        "id": "lVVBWWLKfDTI"
      },
      "source": [
        "\r\n",
        "\r\n",
        "1.   Aplicar scaling para todos exceto random forest e explicar o método minmaxscaler que é um scaler robusto a outliners\r\n",
        "2.   algoritmos variados: svm é linear, knn não paramemtrico\r\n",
        "random forest não linear, ensemble\r\n",
        "3. oversampling para compensar o desbalanceamento das classes\r\n",
        "4. matriz de confusão para os melhores hiperparamentos de cada método\r\n"
      ]
    },
    {
      "cell_type": "code",
      "metadata": {
        "id": "GQ_MjwF2deKt"
      },
      "source": [
        "import csv\r\n",
        "import numpy as np\r\n",
        "import pandas as pd\r\n",
        "import seaborn as sns\r\n",
        "import sklearn.metrics as sk\r\n",
        "import matplotlib.pyplot as plt\r\n",
        "from sklearn import preprocessing\r\n",
        "from sklearn.metrics import f1_score\r\n",
        "from sklearn.model_selection import KFold\r\n",
        "from sklearn.metrics import accuracy_score\r\n",
        "from sklearn.model_selection import train_test_split\r\n",
        "\r\n",
        "from sklearn.linear_model import LogisticRegression\r\n",
        "from sklearn.metrics import accuracy_score\r\n",
        "from sklearn.ensemble import RandomForestClassifier\r\n",
        "from sklearn.neighbors import KNeighborsClassifier\r\n",
        "\r\n",
        "from sklearn.svm import SVC\r\n",
        "from sklearn.pipeline import make_pipeline\r\n",
        "from sklearn.preprocessing import StandardScaler"
      ],
      "execution_count": 235,
      "outputs": []
    },
    {
      "cell_type": "code",
      "metadata": {
        "colab": {
          "base_uri": "https://localhost:8080/",
          "height": 206
        },
        "id": "DATxbZEYdhY2",
        "outputId": "f860cb4d-534e-476a-d7b1-307b7791b58d"
      },
      "source": [
        "# open the csv file to dataframe\r\n",
        "df = pd.read_csv('glass.csv')\r\n",
        "df.head()\r\n",
        "\r\n",
        "# atributes to X and labels to y\r\n",
        "X = df.drop('Type',axis = 1)\r\n",
        "y = df.Type\r\n",
        "df.head()"
      ],
      "execution_count": 156,
      "outputs": [
        {
          "output_type": "execute_result",
          "data": {
            "text/html": [
              "<div>\n",
              "<style scoped>\n",
              "    .dataframe tbody tr th:only-of-type {\n",
              "        vertical-align: middle;\n",
              "    }\n",
              "\n",
              "    .dataframe tbody tr th {\n",
              "        vertical-align: top;\n",
              "    }\n",
              "\n",
              "    .dataframe thead th {\n",
              "        text-align: right;\n",
              "    }\n",
              "</style>\n",
              "<table border=\"1\" class=\"dataframe\">\n",
              "  <thead>\n",
              "    <tr style=\"text-align: right;\">\n",
              "      <th></th>\n",
              "      <th>RI</th>\n",
              "      <th>Na</th>\n",
              "      <th>Mg</th>\n",
              "      <th>Al</th>\n",
              "      <th>Si</th>\n",
              "      <th>K</th>\n",
              "      <th>Ca</th>\n",
              "      <th>Ba</th>\n",
              "      <th>Fe</th>\n",
              "      <th>Type</th>\n",
              "    </tr>\n",
              "  </thead>\n",
              "  <tbody>\n",
              "    <tr>\n",
              "      <th>0</th>\n",
              "      <td>1.52101</td>\n",
              "      <td>13.64</td>\n",
              "      <td>4.49</td>\n",
              "      <td>1.10</td>\n",
              "      <td>71.78</td>\n",
              "      <td>0.06</td>\n",
              "      <td>8.75</td>\n",
              "      <td>0.0</td>\n",
              "      <td>0.0</td>\n",
              "      <td>1</td>\n",
              "    </tr>\n",
              "    <tr>\n",
              "      <th>1</th>\n",
              "      <td>1.51761</td>\n",
              "      <td>13.89</td>\n",
              "      <td>3.60</td>\n",
              "      <td>1.36</td>\n",
              "      <td>72.73</td>\n",
              "      <td>0.48</td>\n",
              "      <td>7.83</td>\n",
              "      <td>0.0</td>\n",
              "      <td>0.0</td>\n",
              "      <td>1</td>\n",
              "    </tr>\n",
              "    <tr>\n",
              "      <th>2</th>\n",
              "      <td>1.51618</td>\n",
              "      <td>13.53</td>\n",
              "      <td>3.55</td>\n",
              "      <td>1.54</td>\n",
              "      <td>72.99</td>\n",
              "      <td>0.39</td>\n",
              "      <td>7.78</td>\n",
              "      <td>0.0</td>\n",
              "      <td>0.0</td>\n",
              "      <td>1</td>\n",
              "    </tr>\n",
              "    <tr>\n",
              "      <th>3</th>\n",
              "      <td>1.51766</td>\n",
              "      <td>13.21</td>\n",
              "      <td>3.69</td>\n",
              "      <td>1.29</td>\n",
              "      <td>72.61</td>\n",
              "      <td>0.57</td>\n",
              "      <td>8.22</td>\n",
              "      <td>0.0</td>\n",
              "      <td>0.0</td>\n",
              "      <td>1</td>\n",
              "    </tr>\n",
              "    <tr>\n",
              "      <th>4</th>\n",
              "      <td>1.51742</td>\n",
              "      <td>13.27</td>\n",
              "      <td>3.62</td>\n",
              "      <td>1.24</td>\n",
              "      <td>73.08</td>\n",
              "      <td>0.55</td>\n",
              "      <td>8.07</td>\n",
              "      <td>0.0</td>\n",
              "      <td>0.0</td>\n",
              "      <td>1</td>\n",
              "    </tr>\n",
              "  </tbody>\n",
              "</table>\n",
              "</div>"
            ],
            "text/plain": [
              "        RI     Na    Mg    Al     Si     K    Ca   Ba   Fe  Type\n",
              "0  1.52101  13.64  4.49  1.10  71.78  0.06  8.75  0.0  0.0     1\n",
              "1  1.51761  13.89  3.60  1.36  72.73  0.48  7.83  0.0  0.0     1\n",
              "2  1.51618  13.53  3.55  1.54  72.99  0.39  7.78  0.0  0.0     1\n",
              "3  1.51766  13.21  3.69  1.29  72.61  0.57  8.22  0.0  0.0     1\n",
              "4  1.51742  13.27  3.62  1.24  73.08  0.55  8.07  0.0  0.0     1"
            ]
          },
          "metadata": {
            "tags": []
          },
          "execution_count": 156
        }
      ]
    },
    {
      "cell_type": "code",
      "metadata": {
        "id": "loRusGXcZeqa"
      },
      "source": [
        "# label encoding. necessário para corrigir um erro do dataset na nomenclatura das classes\r\n",
        "label = preprocessing.LabelEncoder()\r\n",
        "label.fit(y)\r\n",
        "y_label = label.transform(y)"
      ],
      "execution_count": 157,
      "outputs": []
    },
    {
      "cell_type": "code",
      "metadata": {
        "id": "nak2u9tnhlfk"
      },
      "source": [
        "#Xtrain, Xtest, ytrain, ytest = train_test_split(X, y_label, test_size = 0.30, random_state = 0)\r\n",
        "Xtrain, Xtest, ytrain, ytest = train_test_split(X, y_label, test_size = 0.30, stratify = y)"
      ],
      "execution_count": 158,
      "outputs": []
    },
    {
      "cell_type": "code",
      "metadata": {
        "id": "nOlG13vaPJq9"
      },
      "source": [
        "# robust bom para dados com outliers\r\n",
        "from sklearn.preprocessing import RobustScaler,MinMaxScaler\r\n",
        "scale = MinMaxScaler()\r\n",
        "\r\n",
        "Xtrain_scaled = scale.fit_transform(Xtrain)\r\n",
        "Xtest_scaled = scale.transform(Xtest)"
      ],
      "execution_count": 159,
      "outputs": []
    },
    {
      "cell_type": "code",
      "metadata": {
        "id": "rDzOw7LGTorX"
      },
      "source": [
        "# dataframe to np.array\r\n",
        "Xtrain = Xtrain.values\r\n",
        "Xtest = Xtest.values"
      ],
      "execution_count": 160,
      "outputs": []
    },
    {
      "cell_type": "markdown",
      "metadata": {
        "id": "vZZQfOQ-saYU"
      },
      "source": [
        "**Oversampling**"
      ]
    },
    {
      "cell_type": "code",
      "metadata": {
        "colab": {
          "base_uri": "https://localhost:8080/"
        },
        "id": "Cic196i0scfG",
        "outputId": "632caca7-2db0-4776-9ca5-dbfe28e100dd"
      },
      "source": [
        "import imblearn\r\n",
        "from imblearn.over_sampling import RandomOverSampler\r\n",
        "\r\n",
        "oversample = RandomOverSampler(sampling_strategy='minority')\r\n",
        "Xtrain_over, ytrain_over = oversample.fit_resample(Xtrain, ytrain)\r\n",
        "\r\n",
        "oversample_scaled = RandomOverSampler(sampling_strategy='minority')\r\n",
        "Xtrain_over_scaled, ytrain_over_scaled = oversample_scaled.fit_resample(Xtrain_scaled, ytrain)"
      ],
      "execution_count": 161,
      "outputs": [
        {
          "output_type": "stream",
          "text": [
            "/usr/local/lib/python3.6/dist-packages/sklearn/utils/deprecation.py:87: FutureWarning: Function safe_indexing is deprecated; safe_indexing is deprecated in version 0.22 and will be removed in version 0.24.\n",
            "  warnings.warn(msg, category=FutureWarning)\n",
            "/usr/local/lib/python3.6/dist-packages/sklearn/utils/deprecation.py:87: FutureWarning: Function safe_indexing is deprecated; safe_indexing is deprecated in version 0.22 and will be removed in version 0.24.\n",
            "  warnings.warn(msg, category=FutureWarning)\n"
          ],
          "name": "stderr"
        }
      ]
    },
    {
      "cell_type": "code",
      "metadata": {
        "id": "2C8ZSHL0_ePF"
      },
      "source": [
        "# cross validation, evaluation e desempenho do Random Forest\r\n",
        "def fit_random_forest(var,Xtrain_p, ytrain_p, Xtest_p,ytest_p):\r\n",
        "  n_splits_kfold = 4\r\n",
        "  kf = KFold(n_splits = n_splits_kfold)\r\n",
        "  acc_vec = np.zeros(var)\r\n",
        "\r\n",
        "  for j in range(0,var):\r\n",
        "    acc = 0\r\n",
        "    for train_index, test_index in kf.split(Xtrain_p):\r\n",
        "      Xtrain_kfold, Xtest_kfold = Xtrain_p[train_index], Xtrain_p[test_index]\r\n",
        "      ytrain_kfold, ytest_kfold = ytrain_p[train_index], ytrain_p[test_index]\r\n",
        "      \r\n",
        "      clf = RandomForestClassifier(max_depth = j+1, n_estimators = 500)\r\n",
        "      clf.fit(Xtrain_kfold, ytrain_kfold)\r\n",
        "      ypred_kfold = clf.predict(Xtest_kfold)\r\n",
        "      acc += f1_score(ytest_kfold, ypred_kfold, average='macro')\r\n",
        "      \r\n",
        "    acc_vec[j] = acc/n_splits_kfold\r\n",
        "  plt.plot(acc_vec)\r\n",
        "  best_var = acc_vec.argmax() + 1\r\n",
        "\r\n",
        "  # método com o hiperparâmetro ideal\r\n",
        "  clf = RandomForestClassifier(max_depth=best_var, n_estimators = 100)\r\n",
        "  clf.fit(Xtrain_p, ytrain_p)\r\n",
        "  y_predict = clf.predict(Xtest_p)\r\n",
        "  f1_predict = f1_score(ytest_p, y_predict, average='macro')\r\n",
        "  acc_predict = accuracy_score(ytest_p,y_predict)\r\n",
        "\r\n",
        "  return(best_var,f1_predict,acc_predict)"
      ],
      "execution_count": 169,
      "outputs": []
    },
    {
      "cell_type": "code",
      "metadata": {
        "colab": {
          "base_uri": "https://localhost:8080/",
          "height": 283
        },
        "id": "7YOpGtysFpd1",
        "outputId": "752cc267-9a14-40e9-c090-81aadcd5cc9e"
      },
      "source": [
        "fit_random_forest(15,Xtrain,ytrain,Xtest,ytest)"
      ],
      "execution_count": 170,
      "outputs": [
        {
          "output_type": "execute_result",
          "data": {
            "text/plain": [
              "(12, 0.7596755368814193, 0.8)"
            ]
          },
          "metadata": {
            "tags": []
          },
          "execution_count": 170
        },
        {
          "output_type": "display_data",
          "data": {
            "image/png": "[encoded data removed]",
            "text/plain": [
              "<Figure size 432x288 with 1 Axes>"
            ]
          },
          "metadata": {
            "tags": [],
            "needs_background": "light"
          }
        }
      ]
    },
    {
      "cell_type": "code",
      "metadata": {
        "colab": {
          "base_uri": "https://localhost:8080/",
          "height": 283
        },
        "id": "BzE5LfTUGr0i",
        "outputId": "f619ec39-4feb-44d3-ebd7-f40d5d27c51d"
      },
      "source": [
        "fit_random_forest(15,Xtrain_over,ytrain_over,Xtest,ytest)"
      ],
      "execution_count": 171,
      "outputs": [
        {
          "output_type": "execute_result",
          "data": {
            "text/plain": [
              "(5, 0.6972109304426378, 0.7692307692307693)"
            ]
          },
          "metadata": {
            "tags": []
          },
          "execution_count": 171
        },
        {
          "output_type": "display_data",
          "data": {
            "image/png": "[encoded data removed]",
            "text/plain": [
              "<Figure size 432x288 with 1 Axes>"
            ]
          },
          "metadata": {
            "tags": [],
            "needs_background": "light"
          }
        }
      ]
    },
    {
      "cell_type": "code",
      "metadata": {
        "colab": {
          "base_uri": "https://localhost:8080/",
          "height": 283
        },
        "id": "kL48Bcx_Udlf",
        "outputId": "1e85154a-2473-4821-abe0-1d9ff5d18ee2"
      },
      "source": [
        "fit_random_forest(15,Xtrain_scaled,ytrain,Xtest_scaled,ytest)"
      ],
      "execution_count": 175,
      "outputs": [
        {
          "output_type": "execute_result",
          "data": {
            "text/plain": [
              "(8, 0.7158165591818122, 0.7846153846153846)"
            ]
          },
          "metadata": {
            "tags": []
          },
          "execution_count": 175
        },
        {
          "output_type": "display_data",
          "data": {
            "image/png": "[encoded data removed]",
            "text/plain": [
              "<Figure size 432x288 with 1 Axes>"
            ]
          },
          "metadata": {
            "tags": [],
            "needs_background": "light"
          }
        }
      ]
    },
    {
      "cell_type": "code",
      "metadata": {
        "colab": {
          "base_uri": "https://localhost:8080/",
          "height": 283
        },
        "id": "O0wbqksaUX74",
        "outputId": "7413d405-ab01-4652-8233-d9436d8148e9"
      },
      "source": [
        "fit_random_forest(15,Xtrain_over_scaled,ytrain_over_scaled,Xtest_scaled,ytest)"
      ],
      "execution_count": 182,
      "outputs": [
        {
          "output_type": "execute_result",
          "data": {
            "text/plain": [
              "(5, 0.7133005633607946, 0.7692307692307693)"
            ]
          },
          "metadata": {
            "tags": []
          },
          "execution_count": 182
        },
        {
          "output_type": "display_data",
          "data": {
            "image/png": "[encoded data removed]",
            "text/plain": [
              "<Figure size 432x288 with 1 Axes>"
            ]
          },
          "metadata": {
            "tags": [],
            "needs_background": "light"
          }
        }
      ]
    },
    {
      "cell_type": "code",
      "metadata": {
        "id": "CRJ3nJSQIq8a"
      },
      "source": [
        "def fit_knn(var,Xtrain_p, ytrain_p, Xtest_p,ytest_p):\r\n",
        "  n_splits_kfold = 4\r\n",
        "  kf = KFold(n_splits = n_splits_kfold)\r\n",
        "  acc_vec = np.zeros(var)\r\n",
        "  \r\n",
        "  for j in range(0,var):\r\n",
        "    acc = 0\r\n",
        "    for train_index, test_index in kf.split(Xtrain_p):\r\n",
        "      Xtrain_kfold, Xtest_kfold = Xtrain_p[train_index], Xtrain_p[test_index]\r\n",
        "      ytrain_kfold, ytest_kfold = ytrain_p[train_index], ytrain_p[test_index]\r\n",
        "      \r\n",
        "      neigh = KNeighborsClassifier(n_neighbors = j+1)\r\n",
        "      neigh.fit(Xtrain_kfold, ytrain_kfold)\r\n",
        "      ypred_kfold = neigh.predict(Xtest_kfold)\r\n",
        "      acc += f1_score(ytest_kfold, ypred_kfold, average='macro')\r\n",
        "      \r\n",
        "    acc_vec[j] = acc/n_splits_kfold\r\n",
        "  plt.plot(acc_vec)\r\n",
        "  best_var = acc_vec.argmax() + 1\r\n",
        "\r\n",
        "  # método com o hiperparâmetro ideal\r\n",
        "  neigh = KNeighborsClassifier(n_neighbors = best_var)\r\n",
        "  neigh.fit(Xtrain_p, ytrain_p)\r\n",
        "  y_predict = neigh.predict(Xtest_p)\r\n",
        "  f1_predict = f1_score(ytest_p, y_predict, average='macro')\r\n",
        "  acc_predict = accuracy_score(ytest_p,y_predict)\r\n",
        "\r\n",
        "  return(best_var,f1_predict,acc_predict)"
      ],
      "execution_count": 184,
      "outputs": []
    },
    {
      "cell_type": "code",
      "metadata": {
        "colab": {
          "base_uri": "https://localhost:8080/",
          "height": 285
        },
        "id": "YscEzMndJoM0",
        "outputId": "d1a83056-2371-4697-cf05-b731e86d8485"
      },
      "source": [
        "fit_knn(20,Xtrain,ytrain,Xtest,ytest)"
      ],
      "execution_count": 185,
      "outputs": [
        {
          "output_type": "execute_result",
          "data": {
            "text/plain": [
              "(1, 0.684437321937322, 0.7384615384615385)"
            ]
          },
          "metadata": {
            "tags": []
          },
          "execution_count": 185
        },
        {
          "output_type": "display_data",
          "data": {
            "image/png": "[encoded data removed]",
            "text/plain": [
              "<Figure size 432x288 with 1 Axes>"
            ]
          },
          "metadata": {
            "tags": [],
            "needs_background": "light"
          }
        }
      ]
    },
    {
      "cell_type": "code",
      "metadata": {
        "colab": {
          "base_uri": "https://localhost:8080/",
          "height": 283
        },
        "id": "WKE_2isDKg8s",
        "outputId": "531c1643-ad79-4770-cf60-61c5f1d771ad"
      },
      "source": [
        "fit_knn(20,Xtrain_over,ytrain_over,Xtest,ytest)"
      ],
      "execution_count": 186,
      "outputs": [
        {
          "output_type": "execute_result",
          "data": {
            "text/plain": [
              "(2, 0.594047619047619, 0.676923076923077)"
            ]
          },
          "metadata": {
            "tags": []
          },
          "execution_count": 186
        },
        {
          "output_type": "display_data",
          "data": {
            "image/png": "[encoded data removed]",
            "text/plain": [
              "<Figure size 432x288 with 1 Axes>"
            ]
          },
          "metadata": {
            "tags": [],
            "needs_background": "light"
          }
        }
      ]
    },
    {
      "cell_type": "code",
      "metadata": {
        "colab": {
          "base_uri": "https://localhost:8080/",
          "height": 283
        },
        "id": "HLo-FOi4Wqqx",
        "outputId": "6bce821a-a300-441e-f5e5-bb1c7f2b1932"
      },
      "source": [
        "fit_knn(20,Xtrain_scaled,ytrain,Xtest_scaled,ytest)"
      ],
      "execution_count": 187,
      "outputs": [
        {
          "output_type": "execute_result",
          "data": {
            "text/plain": [
              "(1, 0.5999741200828158, 0.6461538461538462)"
            ]
          },
          "metadata": {
            "tags": []
          },
          "execution_count": 187
        },
        {
          "output_type": "display_data",
          "data": {
            "image/png": "[encoded data removed]",
            "text/plain": [
              "<Figure size 432x288 with 1 Axes>"
            ]
          },
          "metadata": {
            "tags": [],
            "needs_background": "light"
          }
        }
      ]
    },
    {
      "cell_type": "code",
      "metadata": {
        "colab": {
          "base_uri": "https://localhost:8080/",
          "height": 283
        },
        "id": "Dw2Dw44_WuA1",
        "outputId": "f342fbbe-7a70-42f4-a1f3-6a91a2a801fe"
      },
      "source": [
        "fit_knn(20,Xtrain_over_scaled,ytrain_over_scaled,Xtest_scaled,ytest)"
      ],
      "execution_count": 188,
      "outputs": [
        {
          "output_type": "execute_result",
          "data": {
            "text/plain": [
              "(1, 0.5999741200828158, 0.6461538461538462)"
            ]
          },
          "metadata": {
            "tags": []
          },
          "execution_count": 188
        },
        {
          "output_type": "display_data",
          "data": {
            "image/png": "[encoded data removed]",
            "text/plain": [
              "<Figure size 432x288 with 1 Axes>"
            ]
          },
          "metadata": {
            "tags": [],
            "needs_background": "light"
          }
        }
      ]
    },
    {
      "cell_type": "code",
      "metadata": {
        "id": "e8FoZHDecl1b"
      },
      "source": [
        "def fit_svc(var,Xtrain_p, ytrain_p, Xtest_p,ytest_p):\r\n",
        "  n_splits_kfold = 4\r\n",
        "  kf = KFold(n_splits = n_splits_kfold)\r\n",
        "  acc_vec = np.zeros(len(var))\r\n",
        "  \r\n",
        "  for i,j in enumerate(var):\r\n",
        "    acc = 0\r\n",
        "    for train_index, test_index in kf.split(Xtrain_p):\r\n",
        "\r\n",
        "      Xtrain_kfold, Xtest_kfold = Xtrain_p[train_index], Xtrain_p[test_index]\r\n",
        "      ytrain_kfold, ytest_kfold = ytrain_p[train_index], ytrain_p[test_index]\r\n",
        "      \r\n",
        "\r\n",
        "      reg = SVC(gamma='auto',kernel='linear',C=j)\r\n",
        "      reg.fit(Xtrain_kfold,ytrain_kfold)\r\n",
        "      ypred_kfold = reg.predict(Xtest_kfold)\r\n",
        "      acc += f1_score(ytest_kfold, ypred_kfold, average='macro')\r\n",
        "      \r\n",
        "      \r\n",
        "    acc_vec[i] = acc/n_splits_kfold\r\n",
        "  plt.plot(acc_vec)\r\n",
        "  best_var = var[acc_vec.argmax()]\r\n",
        "\r\n",
        "  # método com o hiperparâmetro ideal\r\n",
        "  reg = SVC(gamma='auto',kernel='linear',C=best_var)\r\n",
        "  reg.fit(Xtrain_p,ytrain_p)\r\n",
        "  y_predict = reg.predict(Xtest_p)\r\n",
        "  f1_predict = f1_score(ytest_p, y_predict, average='macro')\r\n",
        "  acc_predict = accuracy_score(ytest_p,y_predict)\r\n",
        "\r\n",
        "  return(best_var,f1_predict,acc_predict)"
      ],
      "execution_count": 238,
      "outputs": []
    },
    {
      "cell_type": "code",
      "metadata": {
        "id": "KS6oaUVJdlXS"
      },
      "source": [
        "vec_reg = [1e-1,1e+0,1e+1,1e+2,1e+3,1e+4,1e+5,1e+6,1e+7]"
      ],
      "execution_count": 245,
      "outputs": []
    },
    {
      "cell_type": "code",
      "metadata": {
        "colab": {
          "base_uri": "https://localhost:8080/",
          "height": 283
        },
        "id": "isQ7Su_JdqgU",
        "outputId": "4f04d302-1843-420c-fb91-2c7ce10a0783"
      },
      "source": [
        "fit_svc(vec_reg,Xtrain_scaled,ytrain,Xtest_scaled,ytest)"
      ],
      "execution_count": 246,
      "outputs": [
        {
          "output_type": "execute_result",
          "data": {
            "text/plain": [
              "(1000.0, 0.5387995811776299, 0.6153846153846154)"
            ]
          },
          "metadata": {
            "tags": []
          },
          "execution_count": 246
        },
        {
          "output_type": "display_data",
          "data": {
            "image/png": "[encoded data removed]",
            "text/plain": [
              "<Figure size 432x288 with 1 Axes>"
            ]
          },
          "metadata": {
            "tags": [],
            "needs_background": "light"
          }
        }
      ]
    },
    {
      "cell_type": "code",
      "metadata": {
        "colab": {
          "base_uri": "https://localhost:8080/",
          "height": 283
        },
        "id": "ntOQEeETeVQ9",
        "outputId": "ee859d55-b6a6-402e-ca87-334e4c36a54e"
      },
      "source": [
        "fit_svc(vec_reg,Xtrain_over_scaled,ytrain_over_scaled,Xtest_scaled,ytest)"
      ],
      "execution_count": 247,
      "outputs": [
        {
          "output_type": "execute_result",
          "data": {
            "text/plain": [
              "(100.0, 0.5602477477477478, 0.6153846153846154)"
            ]
          },
          "metadata": {
            "tags": []
          },
          "execution_count": 247
        },
        {
          "output_type": "display_data",
          "data": {
            "image/png": "[encoded data removed]",
            "text/plain": [
              "<Figure size 432x288 with 1 Axes>"
            ]
          },
          "metadata": {
            "tags": [],
            "needs_background": "light"
          }
        }
      ]
    },
    {
      "cell_type": "markdown",
      "metadata": {
        "id": "7YEKMD2y82RF"
      },
      "source": [
        "**Regressão Logística**"
      ]
    },
    {
      "cell_type": "code",
      "metadata": {
        "id": "htUp52RFK0yJ"
      },
      "source": [
        "def fit_reg(var,Xtrain_p, ytrain_p, Xtest_p,ytest_p):\r\n",
        "  n_splits_kfold = 4\r\n",
        "  kf = KFold(n_splits = n_splits_kfold)\r\n",
        "  acc_vec = np.zeros(len(var))\r\n",
        "  \r\n",
        "  for i,j in enumerate(var):\r\n",
        "    acc = 0\r\n",
        "    for train_index, test_index in kf.split(Xtrain_p):\r\n",
        "\r\n",
        "      Xtrain_kfold, Xtest_kfold = Xtrain_p[train_index], Xtrain_p[test_index]\r\n",
        "      ytrain_kfold, ytest_kfold = ytrain_p[train_index], ytrain_p[test_index]\r\n",
        "      \r\n",
        "      reg = LogisticRegression(fit_intercept=True,multi_class='multinomial', C=j,max_iter=500)\r\n",
        "      reg.fit(Xtrain_kfold,ytrain_kfold)\r\n",
        "      ypred_kfold = reg.predict(Xtest_kfold)\r\n",
        "      acc += f1_score(ytest_kfold, ypred_kfold, average='macro')\r\n",
        "      \r\n",
        "      \r\n",
        "    acc_vec[i] = acc/n_splits_kfold\r\n",
        "  plt.plot(acc_vec)\r\n",
        "  best_var = var[acc_vec.argmax()]\r\n",
        "\r\n",
        "  # método com o hiperparâmetro ideal\r\n",
        "  reg = LogisticRegression(fit_intercept=True,multi_class='multinomial', C=best_var,max_iter=500)\r\n",
        "  reg.fit(Xtrain_p,ytrain_p)\r\n",
        "  y_predict = reg.predict(Xtest_p)\r\n",
        "  f1_predict = f1_score(ytest_p, y_predict, average='macro')\r\n",
        "  acc_predict = accuracy_score(ytest_p,y_predict)\r\n",
        "\r\n",
        "  return(best_var,f1_predict,acc_predict)"
      ],
      "execution_count": 230,
      "outputs": []
    },
    {
      "cell_type": "code",
      "metadata": {
        "colab": {
          "base_uri": "https://localhost:8080/"
        },
        "id": "kK0vRNqoYmJP",
        "outputId": "1d8a3e38-dccb-4624-e5d9-906390b0fce9"
      },
      "source": [
        "vec_reg = [1e+1,1e+2,1e+3,1e+4,1e+5,1e+6,1e+7]\r\n",
        "acc_vec = np.zeros(len(vec_reg))\r\n",
        "acc_vec"
      ],
      "execution_count": 231,
      "outputs": [
        {
          "output_type": "execute_result",
          "data": {
            "text/plain": [
              "array([0., 0., 0., 0., 0., 0., 0.])"
            ]
          },
          "metadata": {
            "tags": []
          },
          "execution_count": 231
        }
      ]
    },
    {
      "cell_type": "code",
      "metadata": {
        "colab": {
          "base_uri": "https://localhost:8080/"
        },
        "id": "0YGldOGCasMx",
        "outputId": "ddce0024-ac00-408a-dc74-2983a5862316"
      },
      "source": [
        "for i,j in enumerate(vec_reg):\r\n",
        "  print(i,j)"
      ],
      "execution_count": 232,
      "outputs": [
        {
          "output_type": "stream",
          "text": [
            "0 10.0\n",
            "1 100.0\n",
            "2 1000.0\n",
            "3 10000.0\n",
            "4 100000.0\n",
            "5 1000000.0\n",
            "6 10000000.0\n"
          ],
          "name": "stdout"
        }
      ]
    },
    {
      "cell_type": "code",
      "metadata": {
        "id": "9R7E4ZlfM8VR"
      },
      "source": [
        "fit_reg(vec_reg,Xtrain,ytrain,Xtest,ytest)"
      ],
      "execution_count": null,
      "outputs": []
    },
    {
      "cell_type": "code",
      "metadata": {
        "colab": {
          "base_uri": "https://localhost:8080/",
          "height": 1000
        },
        "id": "lhgKfLoacI2e",
        "outputId": "730a8ffa-089f-4beb-da79-74ae58f484cc"
      },
      "source": [
        "fit_reg(vec_reg,Xtrain_scaled,ytrain,Xtest_scaled,ytest)"
      ],
      "execution_count": 234,
      "outputs": [
        {
          "output_type": "stream",
          "text": [
            "/usr/local/lib/python3.6/dist-packages/sklearn/linear_model/_logistic.py:940: ConvergenceWarning: lbfgs failed to converge (status=1):\n",
            "STOP: TOTAL NO. of ITERATIONS REACHED LIMIT.\n",
            "\n",
            "Increase the number of iterations (max_iter) or scale the data as shown in:\n",
            "    https://scikit-learn.org/stable/modules/preprocessing.html\n",
            "Please also refer to the documentation for alternative solver options:\n",
            "    https://scikit-learn.org/stable/modules/linear_model.html#logistic-regression\n",
            "  extra_warning_msg=_LOGISTIC_SOLVER_CONVERGENCE_MSG)\n",
            "/usr/local/lib/python3.6/dist-packages/sklearn/linear_model/_logistic.py:940: ConvergenceWarning: lbfgs failed to converge (status=1):\n",
            "STOP: TOTAL NO. of ITERATIONS REACHED LIMIT.\n",
            "\n",
            "Increase the number of iterations (max_iter) or scale the data as shown in:\n",
            "    https://scikit-learn.org/stable/modules/preprocessing.html\n",
            "Please also refer to the documentation for alternative solver options:\n",
            "    https://scikit-learn.org/stable/modules/linear_model.html#logistic-regression\n",
            "  extra_warning_msg=_LOGISTIC_SOLVER_CONVERGENCE_MSG)\n",
            "/usr/local/lib/python3.6/dist-packages/sklearn/linear_model/_logistic.py:940: ConvergenceWarning: lbfgs failed to converge (status=1):\n",
            "STOP: TOTAL NO. of ITERATIONS REACHED LIMIT.\n",
            "\n",
            "Increase the number of iterations (max_iter) or scale the data as shown in:\n",
            "    https://scikit-learn.org/stable/modules/preprocessing.html\n",
            "Please also refer to the documentation for alternative solver options:\n",
            "    https://scikit-learn.org/stable/modules/linear_model.html#logistic-regression\n",
            "  extra_warning_msg=_LOGISTIC_SOLVER_CONVERGENCE_MSG)\n",
            "/usr/local/lib/python3.6/dist-packages/sklearn/linear_model/_logistic.py:940: ConvergenceWarning: lbfgs failed to converge (status=1):\n",
            "STOP: TOTAL NO. of ITERATIONS REACHED LIMIT.\n",
            "\n",
            "Increase the number of iterations (max_iter) or scale the data as shown in:\n",
            "    https://scikit-learn.org/stable/modules/preprocessing.html\n",
            "Please also refer to the documentation for alternative solver options:\n",
            "    https://scikit-learn.org/stable/modules/linear_model.html#logistic-regression\n",
            "  extra_warning_msg=_LOGISTIC_SOLVER_CONVERGENCE_MSG)\n",
            "/usr/local/lib/python3.6/dist-packages/sklearn/linear_model/_logistic.py:940: ConvergenceWarning: lbfgs failed to converge (status=1):\n",
            "STOP: TOTAL NO. of ITERATIONS REACHED LIMIT.\n",
            "\n",
            "Increase the number of iterations (max_iter) or scale the data as shown in:\n",
            "    https://scikit-learn.org/stable/modules/preprocessing.html\n",
            "Please also refer to the documentation for alternative solver options:\n",
            "    https://scikit-learn.org/stable/modules/linear_model.html#logistic-regression\n",
            "  extra_warning_msg=_LOGISTIC_SOLVER_CONVERGENCE_MSG)\n",
            "/usr/local/lib/python3.6/dist-packages/sklearn/linear_model/_logistic.py:940: ConvergenceWarning: lbfgs failed to converge (status=1):\n",
            "STOP: TOTAL NO. of ITERATIONS REACHED LIMIT.\n",
            "\n",
            "Increase the number of iterations (max_iter) or scale the data as shown in:\n",
            "    https://scikit-learn.org/stable/modules/preprocessing.html\n",
            "Please also refer to the documentation for alternative solver options:\n",
            "    https://scikit-learn.org/stable/modules/linear_model.html#logistic-regression\n",
            "  extra_warning_msg=_LOGISTIC_SOLVER_CONVERGENCE_MSG)\n",
            "/usr/local/lib/python3.6/dist-packages/sklearn/linear_model/_logistic.py:940: ConvergenceWarning: lbfgs failed to converge (status=1):\n",
            "STOP: TOTAL NO. of ITERATIONS REACHED LIMIT.\n",
            "\n",
            "Increase the number of iterations (max_iter) or scale the data as shown in:\n",
            "    https://scikit-learn.org/stable/modules/preprocessing.html\n",
            "Please also refer to the documentation for alternative solver options:\n",
            "    https://scikit-learn.org/stable/modules/linear_model.html#logistic-regression\n",
            "  extra_warning_msg=_LOGISTIC_SOLVER_CONVERGENCE_MSG)\n",
            "/usr/local/lib/python3.6/dist-packages/sklearn/linear_model/_logistic.py:940: ConvergenceWarning: lbfgs failed to converge (status=1):\n",
            "STOP: TOTAL NO. of ITERATIONS REACHED LIMIT.\n",
            "\n",
            "Increase the number of iterations (max_iter) or scale the data as shown in:\n",
            "    https://scikit-learn.org/stable/modules/preprocessing.html\n",
            "Please also refer to the documentation for alternative solver options:\n",
            "    https://scikit-learn.org/stable/modules/linear_model.html#logistic-regression\n",
            "  extra_warning_msg=_LOGISTIC_SOLVER_CONVERGENCE_MSG)\n",
            "/usr/local/lib/python3.6/dist-packages/sklearn/linear_model/_logistic.py:940: ConvergenceWarning: lbfgs failed to converge (status=1):\n",
            "STOP: TOTAL NO. of ITERATIONS REACHED LIMIT.\n",
            "\n",
            "Increase the number of iterations (max_iter) or scale the data as shown in:\n",
            "    https://scikit-learn.org/stable/modules/preprocessing.html\n",
            "Please also refer to the documentation for alternative solver options:\n",
            "    https://scikit-learn.org/stable/modules/linear_model.html#logistic-regression\n",
            "  extra_warning_msg=_LOGISTIC_SOLVER_CONVERGENCE_MSG)\n",
            "/usr/local/lib/python3.6/dist-packages/sklearn/linear_model/_logistic.py:940: ConvergenceWarning: lbfgs failed to converge (status=1):\n",
            "STOP: TOTAL NO. of ITERATIONS REACHED LIMIT.\n",
            "\n",
            "Increase the number of iterations (max_iter) or scale the data as shown in:\n",
            "    https://scikit-learn.org/stable/modules/preprocessing.html\n",
            "Please also refer to the documentation for alternative solver options:\n",
            "    https://scikit-learn.org/stable/modules/linear_model.html#logistic-regression\n",
            "  extra_warning_msg=_LOGISTIC_SOLVER_CONVERGENCE_MSG)\n",
            "/usr/local/lib/python3.6/dist-packages/sklearn/linear_model/_logistic.py:940: ConvergenceWarning: lbfgs failed to converge (status=1):\n",
            "STOP: TOTAL NO. of ITERATIONS REACHED LIMIT.\n",
            "\n",
            "Increase the number of iterations (max_iter) or scale the data as shown in:\n",
            "    https://scikit-learn.org/stable/modules/preprocessing.html\n",
            "Please also refer to the documentation for alternative solver options:\n",
            "    https://scikit-learn.org/stable/modules/linear_model.html#logistic-regression\n",
            "  extra_warning_msg=_LOGISTIC_SOLVER_CONVERGENCE_MSG)\n",
            "/usr/local/lib/python3.6/dist-packages/sklearn/linear_model/_logistic.py:940: ConvergenceWarning: lbfgs failed to converge (status=1):\n",
            "STOP: TOTAL NO. of ITERATIONS REACHED LIMIT.\n",
            "\n",
            "Increase the number of iterations (max_iter) or scale the data as shown in:\n",
            "    https://scikit-learn.org/stable/modules/preprocessing.html\n",
            "Please also refer to the documentation for alternative solver options:\n",
            "    https://scikit-learn.org/stable/modules/linear_model.html#logistic-regression\n",
            "  extra_warning_msg=_LOGISTIC_SOLVER_CONVERGENCE_MSG)\n",
            "/usr/local/lib/python3.6/dist-packages/sklearn/linear_model/_logistic.py:940: ConvergenceWarning: lbfgs failed to converge (status=1):\n",
            "STOP: TOTAL NO. of ITERATIONS REACHED LIMIT.\n",
            "\n",
            "Increase the number of iterations (max_iter) or scale the data as shown in:\n",
            "    https://scikit-learn.org/stable/modules/preprocessing.html\n",
            "Please also refer to the documentation for alternative solver options:\n",
            "    https://scikit-learn.org/stable/modules/linear_model.html#logistic-regression\n",
            "  extra_warning_msg=_LOGISTIC_SOLVER_CONVERGENCE_MSG)\n",
            "/usr/local/lib/python3.6/dist-packages/sklearn/linear_model/_logistic.py:940: ConvergenceWarning: lbfgs failed to converge (status=1):\n",
            "STOP: TOTAL NO. of ITERATIONS REACHED LIMIT.\n",
            "\n",
            "Increase the number of iterations (max_iter) or scale the data as shown in:\n",
            "    https://scikit-learn.org/stable/modules/preprocessing.html\n",
            "Please also refer to the documentation for alternative solver options:\n",
            "    https://scikit-learn.org/stable/modules/linear_model.html#logistic-regression\n",
            "  extra_warning_msg=_LOGISTIC_SOLVER_CONVERGENCE_MSG)\n",
            "/usr/local/lib/python3.6/dist-packages/sklearn/linear_model/_logistic.py:940: ConvergenceWarning: lbfgs failed to converge (status=1):\n",
            "STOP: TOTAL NO. of ITERATIONS REACHED LIMIT.\n",
            "\n",
            "Increase the number of iterations (max_iter) or scale the data as shown in:\n",
            "    https://scikit-learn.org/stable/modules/preprocessing.html\n",
            "Please also refer to the documentation for alternative solver options:\n",
            "    https://scikit-learn.org/stable/modules/linear_model.html#logistic-regression\n",
            "  extra_warning_msg=_LOGISTIC_SOLVER_CONVERGENCE_MSG)\n",
            "/usr/local/lib/python3.6/dist-packages/sklearn/linear_model/_logistic.py:940: ConvergenceWarning: lbfgs failed to converge (status=1):\n",
            "STOP: TOTAL NO. of ITERATIONS REACHED LIMIT.\n",
            "\n",
            "Increase the number of iterations (max_iter) or scale the data as shown in:\n",
            "    https://scikit-learn.org/stable/modules/preprocessing.html\n",
            "Please also refer to the documentation for alternative solver options:\n",
            "    https://scikit-learn.org/stable/modules/linear_model.html#logistic-regression\n",
            "  extra_warning_msg=_LOGISTIC_SOLVER_CONVERGENCE_MSG)\n",
            "/usr/local/lib/python3.6/dist-packages/sklearn/linear_model/_logistic.py:940: ConvergenceWarning: lbfgs failed to converge (status=1):\n",
            "STOP: TOTAL NO. of ITERATIONS REACHED LIMIT.\n",
            "\n",
            "Increase the number of iterations (max_iter) or scale the data as shown in:\n",
            "    https://scikit-learn.org/stable/modules/preprocessing.html\n",
            "Please also refer to the documentation for alternative solver options:\n",
            "    https://scikit-learn.org/stable/modules/linear_model.html#logistic-regression\n",
            "  extra_warning_msg=_LOGISTIC_SOLVER_CONVERGENCE_MSG)\n",
            "/usr/local/lib/python3.6/dist-packages/sklearn/linear_model/_logistic.py:940: ConvergenceWarning: lbfgs failed to converge (status=1):\n",
            "STOP: TOTAL NO. of ITERATIONS REACHED LIMIT.\n",
            "\n",
            "Increase the number of iterations (max_iter) or scale the data as shown in:\n",
            "    https://scikit-learn.org/stable/modules/preprocessing.html\n",
            "Please also refer to the documentation for alternative solver options:\n",
            "    https://scikit-learn.org/stable/modules/linear_model.html#logistic-regression\n",
            "  extra_warning_msg=_LOGISTIC_SOLVER_CONVERGENCE_MSG)\n",
            "/usr/local/lib/python3.6/dist-packages/sklearn/linear_model/_logistic.py:940: ConvergenceWarning: lbfgs failed to converge (status=1):\n",
            "STOP: TOTAL NO. of ITERATIONS REACHED LIMIT.\n",
            "\n",
            "Increase the number of iterations (max_iter) or scale the data as shown in:\n",
            "    https://scikit-learn.org/stable/modules/preprocessing.html\n",
            "Please also refer to the documentation for alternative solver options:\n",
            "    https://scikit-learn.org/stable/modules/linear_model.html#logistic-regression\n",
            "  extra_warning_msg=_LOGISTIC_SOLVER_CONVERGENCE_MSG)\n",
            "/usr/local/lib/python3.6/dist-packages/sklearn/linear_model/_logistic.py:940: ConvergenceWarning: lbfgs failed to converge (status=1):\n",
            "STOP: TOTAL NO. of ITERATIONS REACHED LIMIT.\n",
            "\n",
            "Increase the number of iterations (max_iter) or scale the data as shown in:\n",
            "    https://scikit-learn.org/stable/modules/preprocessing.html\n",
            "Please also refer to the documentation for alternative solver options:\n",
            "    https://scikit-learn.org/stable/modules/linear_model.html#logistic-regression\n",
            "  extra_warning_msg=_LOGISTIC_SOLVER_CONVERGENCE_MSG)\n",
            "/usr/local/lib/python3.6/dist-packages/sklearn/linear_model/_logistic.py:940: ConvergenceWarning: lbfgs failed to converge (status=1):\n",
            "STOP: TOTAL NO. of ITERATIONS REACHED LIMIT.\n",
            "\n",
            "Increase the number of iterations (max_iter) or scale the data as shown in:\n",
            "    https://scikit-learn.org/stable/modules/preprocessing.html\n",
            "Please also refer to the documentation for alternative solver options:\n",
            "    https://scikit-learn.org/stable/modules/linear_model.html#logistic-regression\n",
            "  extra_warning_msg=_LOGISTIC_SOLVER_CONVERGENCE_MSG)\n"
          ],
          "name": "stderr"
        },
        {
          "output_type": "execute_result",
          "data": {
            "text/plain": [
              "(1000.0, 0.5977249874308698, 0.6307692307692307)"
            ]
          },
          "metadata": {
            "tags": []
          },
          "execution_count": 234
        },
        {
          "output_type": "display_data",
          "data": {
            "image/png": "[encoded data removed]",
            "text/plain": [
              "<Figure size 432x288 with 1 Axes>"
            ]
          },
          "metadata": {
            "tags": [],
            "needs_background": "light"
          }
        }
      ]
    },
    {
      "cell_type": "markdown",
      "metadata": {
        "id": "liqOaFr1lvY7"
      },
      "source": [
        "**Gráficos e Visualizações**"
      ]
    },
    {
      "cell_type": "code",
      "metadata": {
        "colab": {
          "base_uri": "https://localhost:8080/",
          "height": 331
        },
        "id": "8Vfy2IodD1t4",
        "outputId": "de0ee4b6-6e0e-436b-d9a7-bc1654e14142"
      },
      "source": [
        "# confusion matrix with sns\r\n",
        "plt.figure(figsize=(5,5))\r\n",
        "sns.heatmap(cmatrix_ran, annot=True, fmt=\".0f\", linewidths=.5, square = True, cmap = 'Blues');\r\n",
        "plt.ylabel('Actual label');\r\n",
        "plt.xlabel('Predicted label');\r\n",
        "all_sample_title = 'Accuracy Score: {:.4f}'.format(accuracy_score(ytest,y_ran))\r\n",
        "plt.title(all_sample_title, size = 15)"
      ],
      "execution_count": null,
      "outputs": [
        {
          "output_type": "execute_result",
          "data": {
            "text/plain": [
              "Text(0.5, 1.0, 'Accuracy Score: 0.8154')"
            ]
          },
          "metadata": {
            "tags": []
          },
          "execution_count": 9
        },
        {
          "output_type": "display_data",
          "data": {
            "image/png": "[encoded data removed]",
            "text/plain": [
              "<Figure size 360x360 with 2 Axes>"
            ]
          },
          "metadata": {
            "tags": [],
            "needs_background": "light"
          }
        }
      ]
    },
    {
      "cell_type": "code",
      "metadata": {
        "colab": {
          "base_uri": "https://localhost:8080/",
          "height": 384
        },
        "id": "Rol7hWg9Y23J",
        "outputId": "2d7104ea-6d43-4f40-bd13-8a973f966220"
      },
      "source": [
        "# gráfico da quantidade de amostras por classe\r\n",
        "unique, counts = np.unique(y, return_counts=True)\r\n",
        "print(\"Quantidade de amostras total:\",counts)\r\n",
        "fig = plt.figure()\r\n",
        "ax = fig.add_axes([0,0,1,1])\r\n",
        "ax.bar([1,2,3,4,5,6],[70,76,17,13,9,29])\r\n",
        "plt.title(\"Amostras por Classe\")\r\n",
        "plt.xlabel(\"Classe\")\r\n",
        "plt.ylabel(\"Quantidade de amostras\")\r\n",
        "plt.show()"
      ],
      "execution_count": null,
      "outputs": [
        {
          "output_type": "stream",
          "text": [
            "Quantidade de amostras total: [70 76 17 13  9 29]\n"
          ],
          "name": "stdout"
        },
        {
          "output_type": "display_data",
          "data": {
            "image/png": "[encoded data removed]",
            "text/plain": [
              "<Figure size 432x288 with 1 Axes>"
            ]
          },
          "metadata": {
            "tags": [],
            "needs_background": "light"
          }
        }
      ]
    },
    {
      "cell_type": "code",
      "metadata": {
        "id": "DT_2wFL1e8Iy"
      },
      "source": [
        "# correlation matrix\r\n",
        "corrMatrix = X.corr()\r\n",
        "#fig, ax = plt.subplots(figsize=(20,10))\r\n",
        "#sns.heatmap(corrMatrix, annot=True, ax=ax,cmap=\"YlGnBu\", center = 0)\r\n",
        "#plt.show()"
      ],
      "execution_count": null,
      "outputs": []
    },
    {
      "cell_type": "code",
      "metadata": {
        "id": "BnMJlX5m7paV",
        "colab": {
          "base_uri": "https://localhost:8080/",
          "height": 896
        },
        "outputId": "615c0607-872f-45aa-95d1-461493158476"
      },
      "source": [
        "# histogram\r\n",
        "Xtrainpd = pd.DataFrame(Xtrain_scaled)\r\n",
        "fig, ax = plt.subplots(figsize=(30,20)) \r\n",
        "Xtrainpd.hist(ax = ax)\r\n",
        "pass"
      ],
      "execution_count": 248,
      "outputs": [
        {
          "output_type": "stream",
          "text": [
            "/usr/local/lib/python3.6/dist-packages/ipykernel_launcher.py:4: UserWarning: To output multiple subplots, the figure containing the passed axes is being cleared\n",
            "  after removing the cwd from sys.path.\n"
          ],
          "name": "stderr"
        },
        {
          "output_type": "display_data",
          "data": {
            "image/png": "[encoded data removed]",
            "text/plain": [
              "<Figure size 2160x1440 with 9 Axes>"
            ]
          },
          "metadata": {
            "tags": [],
            "needs_background": "light"
          }
        }
      ]
    },
    {
      "cell_type": "markdown",
      "metadata": {
        "id": "gEfkBijxEVwV"
      },
      "source": [
        "**Rascunho**"
      ]
    },
    {
      "cell_type": "code",
      "metadata": {
        "colab": {
          "base_uri": "https://localhost:8080/",
          "height": 408
        },
        "id": "8guyJoIIB0Mp",
        "outputId": "1b988e1a-f79e-4a67-9c59-20a2f6952e6d"
      },
      "source": [
        "# KNN\r\n",
        "\r\n",
        "F1medida_knn_1 = []\r\n",
        "nknn = 11\r\n",
        "for i in range(1,nknn):\r\n",
        "    neigh_1 = KNeighborsClassifier(n_neighbors = i)\r\n",
        "    neigh_1.fit(Xtrain, ytrain)\r\n",
        "    y_knn_1 = neigh_1.predict(Xtest)\r\n",
        "\r\n",
        "    F1medida_knn_1.append(f1_score(ytest, y_knn_1, average='macro'))\r\n",
        "    #print('F1medida para k = ',i, ': ', F1medida_knn_2[i-1])\r\n",
        "    #print('Matriz de confusão para k = ', i)\r\n",
        "    #print(sk.confusion_matrix(ytest,y_knn_2))\r\n",
        "    #print()\r\n",
        "plt.plot(range(1,nknn),F1medida_knn_1)\r\n",
        "plt.xlabel('Número de vizinhos k');\r\n",
        "plt.ylabel('F1-medida');\r\n",
        "pass\r\n",
        "\r\n",
        "F1medida_knn_2 = []\r\n",
        "nknn = 11\r\n",
        "for i in range(1,nknn):\r\n",
        "    neigh_2 = KNeighborsClassifier(n_neighbors = i)\r\n",
        "    neigh_2.fit(Xtrain_over, ytrain_over)\r\n",
        "    y_knn_2 = neigh_2.predict(Xtest)\r\n",
        "\r\n",
        "    F1medida_knn_2.append(f1_score(ytest, y_knn_2, average='macro'))\r\n",
        "    #print('F1medida para k = ',i, ': ', F1medida_knn_2[i-1])\r\n",
        "    #print('Matriz de confusão para k = ', i)\r\n",
        "    #print(sk.confusion_matrix(ytest,y_knn_2))\r\n",
        "    #print()\r\n",
        "plt.plot(range(1,nknn),F1medida_knn_2)\r\n",
        "plt.xlabel('Número de vizinhos k');\r\n",
        "plt.ylabel('F1-medida');\r\n",
        "pass\r\n",
        "\r\n",
        "neigh = KNeighborsClassifier(n_neighbors = 1)\r\n",
        "neigh.fit(Xtrain, ytrain)\r\n",
        "y_knn = neigh.predict(Xtest)\r\n",
        "f1_knn = f1_score(ytest, y_knn, average='macro')\r\n",
        "cmatrix_knn = sk.confusion_matrix(ytest,y_knn)\r\n",
        "\r\n",
        "print('Non oversampling')\r\n",
        "print('F1medida = ', f1_knn)\r\n",
        "print('Acurácia = ',accuracy_score(ytest,y_knn),'\\n')\r\n",
        "\r\n",
        "neigh_over = KNeighborsClassifier(n_neighbors = 1)\r\n",
        "neigh_over.fit(Xtrain_over, ytrain_over)\r\n",
        "y_knn_over = neigh_over.predict(Xtest)\r\n",
        "f1_knn_over = f1_score(ytest, y_knn_over, average='macro')\r\n",
        "cmatrix_knn_over = sk.confusion_matrix(ytest,y_knn_over)\r\n",
        "\r\n",
        "print('Oversampling')\r\n",
        "print('F1medida = ', f1_knn_over)\r\n",
        "print('Acurácia = ',accuracy_score(ytest,y_knn_over))"
      ],
      "execution_count": 205,
      "outputs": [
        {
          "output_type": "stream",
          "text": [
            "Non oversampling\n",
            "F1medida =  0.5273335411633284\n",
            "Acurácia =  0.676923076923077 \n",
            "\n",
            "Oversampling\n",
            "F1medida =  0.7017371517371518\n",
            "Acurácia =  0.7230769230769231\n"
          ],
          "name": "stdout"
        },
        {
          "output_type": "display_data",
          "data": {
            "image/png": "[encoded data removed]",
            "text/plain": [
              "<Figure size 432x288 with 1 Axes>"
            ]
          },
          "metadata": {
            "tags": [],
            "needs_background": "light"
          }
        }
      ]
    },
    {
      "cell_type": "code",
      "metadata": {
        "colab": {
          "base_uri": "https://localhost:8080/"
        },
        "id": "439DCUDaBPln",
        "outputId": "55ddf626-1a4f-4aec-a6cc-ea658ee1e8f2"
      },
      "source": [
        "# Random Forest\r\n",
        "from sklearn.ensemble import RandomForestClassifier\r\n",
        "\r\n",
        "clf = RandomForestClassifier(max_depth=10, random_state=0)\r\n",
        "clf.fit(Xtrain, ytrain)\r\n",
        "y_ran = clf.predict(Xtest)\r\n",
        "f1_ran = f1_score(ytest, y_ran, average='macro')\r\n",
        "cmatrix_ran = sk.confusion_matrix(ytest,y_ran)\r\n",
        "\r\n",
        "print('Non oversampling')\r\n",
        "print('F1medida = ', f1_ran)\r\n",
        "print('Acurácia = ',accuracy_score(ytest,y_ran),'\\n')\r\n",
        "\r\n",
        "clf_over = RandomForestClassifier(max_depth=10, random_state=0)\r\n",
        "clf_over.fit(Xtrain_over, ytrain_over)\r\n",
        "y_ran_over = clf_over.predict(Xtest)\r\n",
        "f1_ran_over = f1_score(ytest, y_ran_over, average='macro')\r\n",
        "cmatrix_ran_over = sk.confusion_matrix(ytest,y_ran_over)\r\n",
        "\r\n",
        "print('Oversampling')\r\n",
        "print('F1medida = ', f1_ran_over)\r\n",
        "print('Acurácia = ',accuracy_score(ytest,y_ran_over))"
      ],
      "execution_count": 197,
      "outputs": [
        {
          "output_type": "stream",
          "text": [
            "Non oversampling\n",
            "F1medida =  0.7183080808080807\n",
            "Acurácia =  0.7538461538461538 \n",
            "\n",
            "Oversampling\n",
            "F1medida =  0.7300911854103344\n",
            "Acurácia =  0.7384615384615385\n"
          ],
          "name": "stdout"
        }
      ]
    },
    {
      "cell_type": "code",
      "metadata": {
        "id": "cuY99qEoEKSX"
      },
      "source": [
        "#sns.FacetGrid(df,hue=\"Type\",height=5).map(sns.distplot,\"RI\").add_legend();"
      ],
      "execution_count": null,
      "outputs": []
    },
    {
      "cell_type": "code",
      "metadata": {
        "colab": {
          "base_uri": "https://localhost:8080/",
          "height": 1000
        },
        "id": "WFgn1qr24aGG",
        "outputId": "f001a626-b0a2-42c6-85dc-2c729c3d2041"
      },
      "source": [
        "F1medida_knn_2 = []\r\n",
        "nknn = 11\r\n",
        "for i in range(1,nknn):\r\n",
        "    neigh_2 = KNeighborsClassifier(n_neighbors = i)\r\n",
        "    neigh_2.fit(Xtrain, ytrain)\r\n",
        "    y_knn_2 = neigh_2.predict(Xtest)\r\n",
        "\r\n",
        "    F1medida_knn_2.append(f1_score(ytest, y_knn_2, average='macro'))\r\n",
        "    print('F1medida para k = ',i, ': ', F1medida_knn_2[i-1])\r\n",
        "    print('Matriz de confusão para k = ', i)\r\n",
        "    print(sk.confusion_matrix(ytest,y_knn_2))\r\n",
        "    print()\r\n",
        "plt.plot(range(1,nknn),F1medida_knn_2)\r\n",
        "plt.xlabel('Número de vizinhos k');\r\n",
        "plt.ylabel('F1-medida');\r\n",
        "pass"
      ],
      "execution_count": 30,
      "outputs": [
        {
          "output_type": "stream",
          "text": [
            "F1medida para k =  1 :  0.7622270335022191\n",
            "Matriz de confusão para k =  1\n",
            "[[16  2  3  0  0  0]\n",
            " [ 5 16  2  0  0  0]\n",
            " [ 3  0  2  0  0  0]\n",
            " [ 0  0  0  4  0  0]\n",
            " [ 0  0  0  0  3  0]\n",
            " [ 1  0  0  1  0  7]]\n",
            "\n",
            "F1medida para k =  2 :  0.7276234567901234\n",
            "Matriz de confusão para k =  2\n",
            "[[20  1  0  0  0  0]\n",
            " [ 7 15  1  0  0  0]\n",
            " [ 5  0  0  0  0  0]\n",
            " [ 0  0  0  4  0  0]\n",
            " [ 0  0  0  0  3  0]\n",
            " [ 1  1  0  0  0  7]]\n",
            "\n",
            "F1medida para k =  3 :  0.7400729373875153\n",
            "Matriz de confusão para k =  3\n",
            "[[16  4  1  0  0  0]\n",
            " [ 5 17  0  0  1  0]\n",
            " [ 3  0  2  0  0  0]\n",
            " [ 0  0  0  4  0  0]\n",
            " [ 0  0  0  0  2  1]\n",
            " [ 0  2  0  0  0  7]]\n",
            "\n",
            "F1medida para k =  4 :  0.6469580080094054\n",
            "Matriz de confusão para k =  4\n",
            "[[17  3  1  0  0  0]\n",
            " [ 6 15  1  0  1  0]\n",
            " [ 5  0  0  0  0  0]\n",
            " [ 0  0  0  4  0  0]\n",
            " [ 0  0  0  0  2  1]\n",
            " [ 0  2  0  0  0  7]]\n",
            "\n",
            "F1medida para k =  5 :  0.5904463913224864\n",
            "Matriz de confusão para k =  5\n",
            "[[15  6  0  0  0  0]\n",
            " [ 5 16  1  0  1  0]\n",
            " [ 5  0  0  0  0  0]\n",
            " [ 0  0  0  4  0  0]\n",
            " [ 1  0  0  0  1  1]\n",
            " [ 0  2  0  0  0  7]]\n",
            "\n",
            "F1medida para k =  6 :  0.5333324819289419\n",
            "Matriz de confusão para k =  6\n",
            "[[16  5  0  0  0  0]\n",
            " [ 5 17  1  0  0  0]\n",
            " [ 5  0  0  0  0  0]\n",
            " [ 0  0  0  4  0  0]\n",
            " [ 2  0  0  0  0  1]\n",
            " [ 0  2  0  0  0  7]]\n",
            "\n",
            "F1medida para k =  7 :  0.5287071350279242\n",
            "Matriz de confusão para k =  7\n",
            "[[16  5  0  0  0  0]\n",
            " [ 5 16  1  0  1  0]\n",
            " [ 5  0  0  0  0  0]\n",
            " [ 0  0  0  4  0  0]\n",
            " [ 2  0  0  0  0  1]\n",
            " [ 0  2  0  0  0  7]]\n",
            "\n",
            "F1medida para k =  8 :  0.4950954681389464\n",
            "Matriz de confusão para k =  8\n",
            "[[16  5  0  0  0  0]\n",
            " [ 6 16  0  0  1  0]\n",
            " [ 5  0  0  0  0  0]\n",
            " [ 0  0  0  3  0  1]\n",
            " [ 2  0  0  0  0  1]\n",
            " [ 0  2  0  0  0  7]]\n",
            "\n",
            "F1medida para k =  9 :  0.46305945546067123\n",
            "Matriz de confusão para k =  9\n",
            "[[16  5  0  0  0  0]\n",
            " [ 5 16  1  0  1  0]\n",
            " [ 5  0  0  0  0  0]\n",
            " [ 0  1  0  2  0  1]\n",
            " [ 2  0  0  0  0  1]\n",
            " [ 0  2  0  0  0  7]]\n",
            "\n",
            "F1medida para k =  10 :  0.49026455026455024\n",
            "Matriz de confusão para k =  10\n",
            "[[16  5  0  0  0  0]\n",
            " [ 6 15  1  0  1  0]\n",
            " [ 5  0  0  0  0  0]\n",
            " [ 0  0  0  3  0  1]\n",
            " [ 2  0  0  0  0  1]\n",
            " [ 0  2  0  0  0  7]]\n",
            "\n"
          ],
          "name": "stdout"
        },
        {
          "output_type": "display_data",
          "data": {
            "image/png": "[encoded data removed]",
            "text/plain": [
              "<Figure size 432x288 with 1 Axes>"
            ]
          },
          "metadata": {
            "tags": [],
            "needs_background": "light"
          }
        }
      ]
    }
  ]
}